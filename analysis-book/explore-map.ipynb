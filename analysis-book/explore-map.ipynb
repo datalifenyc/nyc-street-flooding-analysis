{
 "cells": [
  {
   "cell_type": "markdown",
   "metadata": {},
   "source": [
    "# Explore Map"
   ]
  },
  {
   "cell_type": "markdown",
   "metadata": {},
   "source": [
    "## Import Libraries"
   ]
  },
  {
   "cell_type": "markdown",
   "metadata": {},
   "source": [
    "### External Libraries"
   ]
  },
  {
   "cell_type": "code",
   "execution_count": 1,
   "metadata": {},
   "outputs": [],
   "source": [
    "import geopandas as gpd"
   ]
  },
  {
   "cell_type": "markdown",
   "metadata": {},
   "source": [
    "### External Libraries"
   ]
  },
  {
   "cell_type": "markdown",
   "metadata": {},
   "source": [
    "## Define Variables"
   ]
  },
  {
   "cell_type": "code",
   "execution_count": 2,
   "metadata": {},
   "outputs": [],
   "source": [
    "nyc_street_flooding_input = 'data/clean_street-flood-complaints_rows-all.geojson'\n"
   ]
  },
  {
   "attachments": {},
   "cell_type": "markdown",
   "metadata": {},
   "source": [
    "## Get Clean Data"
   ]
  },
  {
   "cell_type": "code",
   "execution_count": 3,
   "metadata": {},
   "outputs": [],
   "source": [
    "street_flooding_gdf = gpd.read_file(nyc_street_flooding_input)"
   ]
  },
  {
   "attachments": {},
   "cell_type": "markdown",
   "metadata": {},
   "source": [
    "## View Complaints on OpenStreetMap"
   ]
  },
  {
   "cell_type": "code",
   "execution_count": 4,
   "metadata": {},
   "outputs": [],
   "source": [
    "street_flooding_gdf['geometry'] = street_flooding_gdf.geometry"
   ]
  },
  {
   "cell_type": "code",
   "execution_count": 5,
   "metadata": {},
   "outputs": [],
   "source": [
    "popup_columns = [\n",
    "    'geometry',\n",
    "    'created_date',\n",
    "    'incident_address',\n",
    "    'city',\n",
    "    'incident_zip',\n",
    "    'borough',\n",
    "    'bbl',\n",
    "    'status',\n",
    "]"
   ]
  },
  {
   "cell_type": "code",
   "execution_count": 6,
   "metadata": {},
   "outputs": [
    {
     "ename": "TypeError",
     "evalue": "Object of type Timestamp is not JSON serializable",
     "output_type": "error",
     "traceback": [
      "\u001b[1;31m---------------------------------------------------------------------------\u001b[0m",
      "\u001b[1;31mTypeError\u001b[0m                                 Traceback (most recent call last)",
      "File \u001b[1;32mc:\\Users\\datal\\anaconda3\\envs\\nyc-street-flooding-analysis\\Lib\\site-packages\\IPython\\core\\formatters.py:342\u001b[0m, in \u001b[0;36mBaseFormatter.__call__\u001b[1;34m(self, obj)\u001b[0m\n\u001b[0;32m    340\u001b[0m     method \u001b[39m=\u001b[39m get_real_method(obj, \u001b[39mself\u001b[39m\u001b[39m.\u001b[39mprint_method)\n\u001b[0;32m    341\u001b[0m     \u001b[39mif\u001b[39;00m method \u001b[39mis\u001b[39;00m \u001b[39mnot\u001b[39;00m \u001b[39mNone\u001b[39;00m:\n\u001b[1;32m--> 342\u001b[0m         \u001b[39mreturn\u001b[39;00m method()\n\u001b[0;32m    343\u001b[0m     \u001b[39mreturn\u001b[39;00m \u001b[39mNone\u001b[39;00m\n\u001b[0;32m    344\u001b[0m \u001b[39melse\u001b[39;00m:\n",
      "File \u001b[1;32mc:\\Users\\datal\\anaconda3\\envs\\nyc-street-flooding-analysis\\Lib\\site-packages\\folium\\folium.py:319\u001b[0m, in \u001b[0;36mMap._repr_html_\u001b[1;34m(self, **kwargs)\u001b[0m\n\u001b[0;32m    317\u001b[0m     \u001b[39mself\u001b[39m\u001b[39m.\u001b[39m_parent \u001b[39m=\u001b[39m \u001b[39mNone\u001b[39;00m\n\u001b[0;32m    318\u001b[0m \u001b[39melse\u001b[39;00m:\n\u001b[1;32m--> 319\u001b[0m     out \u001b[39m=\u001b[39m \u001b[39mself\u001b[39;49m\u001b[39m.\u001b[39;49m_parent\u001b[39m.\u001b[39;49m_repr_html_(\u001b[39m*\u001b[39;49m\u001b[39m*\u001b[39;49mkwargs)\n\u001b[0;32m    320\u001b[0m \u001b[39mreturn\u001b[39;00m out\n",
      "File \u001b[1;32mc:\\Users\\datal\\anaconda3\\envs\\nyc-street-flooding-analysis\\Lib\\site-packages\\branca\\element.py:343\u001b[0m, in \u001b[0;36mFigure._repr_html_\u001b[1;34m(self, **kwargs)\u001b[0m\n\u001b[0;32m    341\u001b[0m \u001b[39mdef\u001b[39;00m \u001b[39m_repr_html_\u001b[39m(\u001b[39mself\u001b[39m, \u001b[39m*\u001b[39m\u001b[39m*\u001b[39mkwargs):\n\u001b[0;32m    342\u001b[0m \u001b[39m    \u001b[39m\u001b[39m\"\"\"Displays the Figure in a Jupyter notebook.\"\"\"\u001b[39;00m\n\u001b[1;32m--> 343\u001b[0m     html \u001b[39m=\u001b[39m escape(\u001b[39mself\u001b[39;49m\u001b[39m.\u001b[39;49mrender(\u001b[39m*\u001b[39;49m\u001b[39m*\u001b[39;49mkwargs))\n\u001b[0;32m    344\u001b[0m     \u001b[39mif\u001b[39;00m \u001b[39mself\u001b[39m\u001b[39m.\u001b[39mheight \u001b[39mis\u001b[39;00m \u001b[39mNone\u001b[39;00m:\n\u001b[0;32m    345\u001b[0m         iframe \u001b[39m=\u001b[39m (\n\u001b[0;32m    346\u001b[0m             \u001b[39m'\u001b[39m\u001b[39m<div style=\u001b[39m\u001b[39m\"\u001b[39m\u001b[39mwidth:\u001b[39m\u001b[39m{width}\u001b[39;00m\u001b[39m;\u001b[39m\u001b[39m\"\u001b[39m\u001b[39m>\u001b[39m\u001b[39m'\u001b[39m\n\u001b[0;32m    347\u001b[0m             \u001b[39m'\u001b[39m\u001b[39m<div style=\u001b[39m\u001b[39m\"\u001b[39m\u001b[39mposition:relative;width:100\u001b[39m\u001b[39m%\u001b[39m\u001b[39m;height:0;padding-bottom:\u001b[39m\u001b[39m{ratio}\u001b[39;00m\u001b[39m;\u001b[39m\u001b[39m\"\u001b[39m\u001b[39m>\u001b[39m\u001b[39m'\u001b[39m  \u001b[39m# noqa\u001b[39;00m\n\u001b[1;32m   (...)\u001b[0m\n\u001b[0;32m    353\u001b[0m             \u001b[39m'\u001b[39m\u001b[39m</div></div>\u001b[39m\u001b[39m'\u001b[39m\n\u001b[0;32m    354\u001b[0m         )\u001b[39m.\u001b[39mformat(html\u001b[39m=\u001b[39mhtml, width\u001b[39m=\u001b[39m\u001b[39mself\u001b[39m\u001b[39m.\u001b[39mwidth, ratio\u001b[39m=\u001b[39m\u001b[39mself\u001b[39m\u001b[39m.\u001b[39mratio)\n",
      "File \u001b[1;32mc:\\Users\\datal\\anaconda3\\envs\\nyc-street-flooding-analysis\\Lib\\site-packages\\branca\\element.py:338\u001b[0m, in \u001b[0;36mFigure.render\u001b[1;34m(self, **kwargs)\u001b[0m\n\u001b[0;32m    336\u001b[0m \u001b[39m\u001b[39m\u001b[39m\"\"\"Renders the HTML representation of the element.\"\"\"\u001b[39;00m\n\u001b[0;32m    337\u001b[0m \u001b[39mfor\u001b[39;00m name, child \u001b[39min\u001b[39;00m \u001b[39mself\u001b[39m\u001b[39m.\u001b[39m_children\u001b[39m.\u001b[39mitems():\n\u001b[1;32m--> 338\u001b[0m     child\u001b[39m.\u001b[39;49mrender(\u001b[39m*\u001b[39;49m\u001b[39m*\u001b[39;49mkwargs)\n\u001b[0;32m    339\u001b[0m \u001b[39mreturn\u001b[39;00m \u001b[39mself\u001b[39m\u001b[39m.\u001b[39m_template\u001b[39m.\u001b[39mrender(this\u001b[39m=\u001b[39m\u001b[39mself\u001b[39m, kwargs\u001b[39m=\u001b[39mkwargs)\n",
      "File \u001b[1;32mc:\\Users\\datal\\anaconda3\\envs\\nyc-street-flooding-analysis\\Lib\\site-packages\\folium\\folium.py:401\u001b[0m, in \u001b[0;36mMap.render\u001b[1;34m(self, **kwargs)\u001b[0m\n\u001b[0;32m    374\u001b[0m figure\u001b[39m.\u001b[39mheader\u001b[39m.\u001b[39madd_child(\n\u001b[0;32m    375\u001b[0m     Element(\n\u001b[0;32m    376\u001b[0m         \u001b[39m\"\u001b[39m\u001b[39m<style>html, body \u001b[39m\u001b[39m{\u001b[39m\u001b[39m\"\u001b[39m\n\u001b[1;32m   (...)\u001b[0m\n\u001b[0;32m    384\u001b[0m     name\u001b[39m=\u001b[39m\u001b[39m\"\u001b[39m\u001b[39mcss_style\u001b[39m\u001b[39m\"\u001b[39m,\n\u001b[0;32m    385\u001b[0m )\n\u001b[0;32m    387\u001b[0m figure\u001b[39m.\u001b[39mheader\u001b[39m.\u001b[39madd_child(\n\u001b[0;32m    388\u001b[0m     Element(\n\u001b[0;32m    389\u001b[0m         \u001b[39m\"\u001b[39m\u001b[39m<style>#map \u001b[39m\u001b[39m{\u001b[39m\u001b[39m\"\u001b[39m\n\u001b[1;32m   (...)\u001b[0m\n\u001b[0;32m    398\u001b[0m     name\u001b[39m=\u001b[39m\u001b[39m\"\u001b[39m\u001b[39mmap_style\u001b[39m\u001b[39m\"\u001b[39m,\n\u001b[0;32m    399\u001b[0m )\n\u001b[1;32m--> 401\u001b[0m \u001b[39msuper\u001b[39;49m()\u001b[39m.\u001b[39;49mrender(\u001b[39m*\u001b[39;49m\u001b[39m*\u001b[39;49mkwargs)\n",
      "File \u001b[1;32mc:\\Users\\datal\\anaconda3\\envs\\nyc-street-flooding-analysis\\Lib\\site-packages\\folium\\elements.py:22\u001b[0m, in \u001b[0;36mJSCSSMixin.render\u001b[1;34m(self, **kwargs)\u001b[0m\n\u001b[0;32m     19\u001b[0m \u001b[39mfor\u001b[39;00m name, url \u001b[39min\u001b[39;00m \u001b[39mself\u001b[39m\u001b[39m.\u001b[39mdefault_css:\n\u001b[0;32m     20\u001b[0m     figure\u001b[39m.\u001b[39mheader\u001b[39m.\u001b[39madd_child(CssLink(url), name\u001b[39m=\u001b[39mname)\n\u001b[1;32m---> 22\u001b[0m \u001b[39msuper\u001b[39;49m()\u001b[39m.\u001b[39;49mrender(\u001b[39m*\u001b[39;49m\u001b[39m*\u001b[39;49mkwargs)\n",
      "File \u001b[1;32mc:\\Users\\datal\\anaconda3\\envs\\nyc-street-flooding-analysis\\Lib\\site-packages\\branca\\element.py:645\u001b[0m, in \u001b[0;36mMacroElement.render\u001b[1;34m(self, **kwargs)\u001b[0m\n\u001b[0;32m    641\u001b[0m     figure\u001b[39m.\u001b[39mscript\u001b[39m.\u001b[39madd_child(Element(script(\u001b[39mself\u001b[39m, kwargs)),\n\u001b[0;32m    642\u001b[0m                             name\u001b[39m=\u001b[39m\u001b[39mself\u001b[39m\u001b[39m.\u001b[39mget_name())\n\u001b[0;32m    644\u001b[0m \u001b[39mfor\u001b[39;00m name, element \u001b[39min\u001b[39;00m \u001b[39mself\u001b[39m\u001b[39m.\u001b[39m_children\u001b[39m.\u001b[39mitems():\n\u001b[1;32m--> 645\u001b[0m     element\u001b[39m.\u001b[39;49mrender(\u001b[39m*\u001b[39;49m\u001b[39m*\u001b[39;49mkwargs)\n",
      "File \u001b[1;32mc:\\Users\\datal\\anaconda3\\envs\\nyc-street-flooding-analysis\\Lib\\site-packages\\folium\\features.py:782\u001b[0m, in \u001b[0;36mGeoJson.render\u001b[1;34m(self, **kwargs)\u001b[0m\n\u001b[0;32m    780\u001b[0m     \u001b[39mif\u001b[39;00m \u001b[39mself\u001b[39m\u001b[39m.\u001b[39mhighlight:\n\u001b[0;32m    781\u001b[0m         \u001b[39mself\u001b[39m\u001b[39m.\u001b[39mhighlight_map \u001b[39m=\u001b[39m mapper\u001b[39m.\u001b[39mget_highlight_map(\u001b[39mself\u001b[39m\u001b[39m.\u001b[39mhighlight_function)\n\u001b[1;32m--> 782\u001b[0m \u001b[39msuper\u001b[39;49m()\u001b[39m.\u001b[39;49mrender()\n",
      "File \u001b[1;32mc:\\Users\\datal\\anaconda3\\envs\\nyc-street-flooding-analysis\\Lib\\site-packages\\branca\\element.py:641\u001b[0m, in \u001b[0;36mMacroElement.render\u001b[1;34m(self, **kwargs)\u001b[0m\n\u001b[0;32m    639\u001b[0m script \u001b[39m=\u001b[39m \u001b[39mself\u001b[39m\u001b[39m.\u001b[39m_template\u001b[39m.\u001b[39mmodule\u001b[39m.\u001b[39m\u001b[39m__dict__\u001b[39m\u001b[39m.\u001b[39mget(\u001b[39m'\u001b[39m\u001b[39mscript\u001b[39m\u001b[39m'\u001b[39m, \u001b[39mNone\u001b[39;00m)\n\u001b[0;32m    640\u001b[0m \u001b[39mif\u001b[39;00m script \u001b[39mis\u001b[39;00m \u001b[39mnot\u001b[39;00m \u001b[39mNone\u001b[39;00m:\n\u001b[1;32m--> 641\u001b[0m     figure\u001b[39m.\u001b[39mscript\u001b[39m.\u001b[39madd_child(Element(script(\u001b[39mself\u001b[39;49m, kwargs)),\n\u001b[0;32m    642\u001b[0m                             name\u001b[39m=\u001b[39m\u001b[39mself\u001b[39m\u001b[39m.\u001b[39mget_name())\n\u001b[0;32m    644\u001b[0m \u001b[39mfor\u001b[39;00m name, element \u001b[39min\u001b[39;00m \u001b[39mself\u001b[39m\u001b[39m.\u001b[39m_children\u001b[39m.\u001b[39mitems():\n\u001b[0;32m    645\u001b[0m     element\u001b[39m.\u001b[39mrender(\u001b[39m*\u001b[39m\u001b[39m*\u001b[39mkwargs)\n",
      "File \u001b[1;32mc:\\Users\\datal\\anaconda3\\envs\\nyc-street-flooding-analysis\\Lib\\site-packages\\jinja2\\runtime.py:763\u001b[0m, in \u001b[0;36mMacro.__call__\u001b[1;34m(self, *args, **kwargs)\u001b[0m\n\u001b[0;32m    757\u001b[0m \u001b[39melif\u001b[39;00m \u001b[39mlen\u001b[39m(args) \u001b[39m>\u001b[39m \u001b[39mself\u001b[39m\u001b[39m.\u001b[39m_argument_count:\n\u001b[0;32m    758\u001b[0m     \u001b[39mraise\u001b[39;00m \u001b[39mTypeError\u001b[39;00m(\n\u001b[0;32m    759\u001b[0m         \u001b[39mf\u001b[39m\u001b[39m\"\u001b[39m\u001b[39mmacro \u001b[39m\u001b[39m{\u001b[39;00m\u001b[39mself\u001b[39m\u001b[39m.\u001b[39mname\u001b[39m!r}\u001b[39;00m\u001b[39m takes not more than\u001b[39m\u001b[39m\"\u001b[39m\n\u001b[0;32m    760\u001b[0m         \u001b[39mf\u001b[39m\u001b[39m\"\u001b[39m\u001b[39m \u001b[39m\u001b[39m{\u001b[39;00m\u001b[39mlen\u001b[39m(\u001b[39mself\u001b[39m\u001b[39m.\u001b[39marguments)\u001b[39m}\u001b[39;00m\u001b[39m argument(s)\u001b[39m\u001b[39m\"\u001b[39m\n\u001b[0;32m    761\u001b[0m     )\n\u001b[1;32m--> 763\u001b[0m \u001b[39mreturn\u001b[39;00m \u001b[39mself\u001b[39;49m\u001b[39m.\u001b[39;49m_invoke(arguments, autoescape)\n",
      "File \u001b[1;32mc:\\Users\\datal\\anaconda3\\envs\\nyc-street-flooding-analysis\\Lib\\site-packages\\jinja2\\runtime.py:777\u001b[0m, in \u001b[0;36mMacro._invoke\u001b[1;34m(self, arguments, autoescape)\u001b[0m\n\u001b[0;32m    774\u001b[0m \u001b[39mif\u001b[39;00m \u001b[39mself\u001b[39m\u001b[39m.\u001b[39m_environment\u001b[39m.\u001b[39mis_async:\n\u001b[0;32m    775\u001b[0m     \u001b[39mreturn\u001b[39;00m \u001b[39mself\u001b[39m\u001b[39m.\u001b[39m_async_invoke(arguments, autoescape)  \u001b[39m# type: ignore\u001b[39;00m\n\u001b[1;32m--> 777\u001b[0m rv \u001b[39m=\u001b[39m \u001b[39mself\u001b[39;49m\u001b[39m.\u001b[39;49m_func(\u001b[39m*\u001b[39;49marguments)\n\u001b[0;32m    779\u001b[0m \u001b[39mif\u001b[39;00m autoescape:\n\u001b[0;32m    780\u001b[0m     rv \u001b[39m=\u001b[39m Markup(rv)\n",
      "File \u001b[1;32m<template>:238\u001b[0m, in \u001b[0;36mmacro\u001b[1;34m(l_1_this, l_1_kwargs)\u001b[0m\n",
      "File \u001b[1;32mc:\\Users\\datal\\anaconda3\\envs\\nyc-street-flooding-analysis\\Lib\\site-packages\\jinja2\\filters.py:1688\u001b[0m, in \u001b[0;36mdo_tojson\u001b[1;34m(eval_ctx, value, indent)\u001b[0m\n\u001b[0;32m   1685\u001b[0m     kwargs \u001b[39m=\u001b[39m kwargs\u001b[39m.\u001b[39mcopy()\n\u001b[0;32m   1686\u001b[0m     kwargs[\u001b[39m\"\u001b[39m\u001b[39mindent\u001b[39m\u001b[39m\"\u001b[39m] \u001b[39m=\u001b[39m indent\n\u001b[1;32m-> 1688\u001b[0m \u001b[39mreturn\u001b[39;00m htmlsafe_json_dumps(value, dumps\u001b[39m=\u001b[39;49mdumps, \u001b[39m*\u001b[39;49m\u001b[39m*\u001b[39;49mkwargs)\n",
      "File \u001b[1;32mc:\\Users\\datal\\anaconda3\\envs\\nyc-street-flooding-analysis\\Lib\\site-packages\\jinja2\\utils.py:658\u001b[0m, in \u001b[0;36mhtmlsafe_json_dumps\u001b[1;34m(obj, dumps, **kwargs)\u001b[0m\n\u001b[0;32m    654\u001b[0m \u001b[39mif\u001b[39;00m dumps \u001b[39mis\u001b[39;00m \u001b[39mNone\u001b[39;00m:\n\u001b[0;32m    655\u001b[0m     dumps \u001b[39m=\u001b[39m json\u001b[39m.\u001b[39mdumps\n\u001b[0;32m    657\u001b[0m \u001b[39mreturn\u001b[39;00m markupsafe\u001b[39m.\u001b[39mMarkup(\n\u001b[1;32m--> 658\u001b[0m     dumps(obj, \u001b[39m*\u001b[39;49m\u001b[39m*\u001b[39;49mkwargs)\n\u001b[0;32m    659\u001b[0m     \u001b[39m.\u001b[39mreplace(\u001b[39m\"\u001b[39m\u001b[39m<\u001b[39m\u001b[39m\"\u001b[39m, \u001b[39m\"\u001b[39m\u001b[39m\\\\\u001b[39;00m\u001b[39mu003c\u001b[39m\u001b[39m\"\u001b[39m)\n\u001b[0;32m    660\u001b[0m     \u001b[39m.\u001b[39mreplace(\u001b[39m\"\u001b[39m\u001b[39m>\u001b[39m\u001b[39m\"\u001b[39m, \u001b[39m\"\u001b[39m\u001b[39m\\\\\u001b[39;00m\u001b[39mu003e\u001b[39m\u001b[39m\"\u001b[39m)\n\u001b[0;32m    661\u001b[0m     \u001b[39m.\u001b[39mreplace(\u001b[39m\"\u001b[39m\u001b[39m&\u001b[39m\u001b[39m\"\u001b[39m, \u001b[39m\"\u001b[39m\u001b[39m\\\\\u001b[39;00m\u001b[39mu0026\u001b[39m\u001b[39m\"\u001b[39m)\n\u001b[0;32m    662\u001b[0m     \u001b[39m.\u001b[39mreplace(\u001b[39m\"\u001b[39m\u001b[39m'\u001b[39m\u001b[39m\"\u001b[39m, \u001b[39m\"\u001b[39m\u001b[39m\\\\\u001b[39;00m\u001b[39mu0027\u001b[39m\u001b[39m\"\u001b[39m)\n\u001b[0;32m    663\u001b[0m )\n",
      "File \u001b[1;32mc:\\Users\\datal\\anaconda3\\envs\\nyc-street-flooding-analysis\\Lib\\json\\__init__.py:238\u001b[0m, in \u001b[0;36mdumps\u001b[1;34m(obj, skipkeys, ensure_ascii, check_circular, allow_nan, cls, indent, separators, default, sort_keys, **kw)\u001b[0m\n\u001b[0;32m    232\u001b[0m \u001b[39mif\u001b[39;00m \u001b[39mcls\u001b[39m \u001b[39mis\u001b[39;00m \u001b[39mNone\u001b[39;00m:\n\u001b[0;32m    233\u001b[0m     \u001b[39mcls\u001b[39m \u001b[39m=\u001b[39m JSONEncoder\n\u001b[0;32m    234\u001b[0m \u001b[39mreturn\u001b[39;00m \u001b[39mcls\u001b[39;49m(\n\u001b[0;32m    235\u001b[0m     skipkeys\u001b[39m=\u001b[39;49mskipkeys, ensure_ascii\u001b[39m=\u001b[39;49mensure_ascii,\n\u001b[0;32m    236\u001b[0m     check_circular\u001b[39m=\u001b[39;49mcheck_circular, allow_nan\u001b[39m=\u001b[39;49mallow_nan, indent\u001b[39m=\u001b[39;49mindent,\n\u001b[0;32m    237\u001b[0m     separators\u001b[39m=\u001b[39;49mseparators, default\u001b[39m=\u001b[39;49mdefault, sort_keys\u001b[39m=\u001b[39;49msort_keys,\n\u001b[1;32m--> 238\u001b[0m     \u001b[39m*\u001b[39;49m\u001b[39m*\u001b[39;49mkw)\u001b[39m.\u001b[39;49mencode(obj)\n",
      "File \u001b[1;32mc:\\Users\\datal\\anaconda3\\envs\\nyc-street-flooding-analysis\\Lib\\json\\encoder.py:200\u001b[0m, in \u001b[0;36mJSONEncoder.encode\u001b[1;34m(self, o)\u001b[0m\n\u001b[0;32m    196\u001b[0m         \u001b[39mreturn\u001b[39;00m encode_basestring(o)\n\u001b[0;32m    197\u001b[0m \u001b[39m# This doesn't pass the iterator directly to ''.join() because the\u001b[39;00m\n\u001b[0;32m    198\u001b[0m \u001b[39m# exceptions aren't as detailed.  The list call should be roughly\u001b[39;00m\n\u001b[0;32m    199\u001b[0m \u001b[39m# equivalent to the PySequence_Fast that ''.join() would do.\u001b[39;00m\n\u001b[1;32m--> 200\u001b[0m chunks \u001b[39m=\u001b[39m \u001b[39mself\u001b[39;49m\u001b[39m.\u001b[39;49miterencode(o, _one_shot\u001b[39m=\u001b[39;49m\u001b[39mTrue\u001b[39;49;00m)\n\u001b[0;32m    201\u001b[0m \u001b[39mif\u001b[39;00m \u001b[39mnot\u001b[39;00m \u001b[39misinstance\u001b[39m(chunks, (\u001b[39mlist\u001b[39m, \u001b[39mtuple\u001b[39m)):\n\u001b[0;32m    202\u001b[0m     chunks \u001b[39m=\u001b[39m \u001b[39mlist\u001b[39m(chunks)\n",
      "File \u001b[1;32mc:\\Users\\datal\\anaconda3\\envs\\nyc-street-flooding-analysis\\Lib\\json\\encoder.py:258\u001b[0m, in \u001b[0;36mJSONEncoder.iterencode\u001b[1;34m(self, o, _one_shot)\u001b[0m\n\u001b[0;32m    253\u001b[0m \u001b[39melse\u001b[39;00m:\n\u001b[0;32m    254\u001b[0m     _iterencode \u001b[39m=\u001b[39m _make_iterencode(\n\u001b[0;32m    255\u001b[0m         markers, \u001b[39mself\u001b[39m\u001b[39m.\u001b[39mdefault, _encoder, \u001b[39mself\u001b[39m\u001b[39m.\u001b[39mindent, floatstr,\n\u001b[0;32m    256\u001b[0m         \u001b[39mself\u001b[39m\u001b[39m.\u001b[39mkey_separator, \u001b[39mself\u001b[39m\u001b[39m.\u001b[39mitem_separator, \u001b[39mself\u001b[39m\u001b[39m.\u001b[39msort_keys,\n\u001b[0;32m    257\u001b[0m         \u001b[39mself\u001b[39m\u001b[39m.\u001b[39mskipkeys, _one_shot)\n\u001b[1;32m--> 258\u001b[0m \u001b[39mreturn\u001b[39;00m _iterencode(o, \u001b[39m0\u001b[39;49m)\n",
      "File \u001b[1;32mc:\\Users\\datal\\anaconda3\\envs\\nyc-street-flooding-analysis\\Lib\\json\\encoder.py:180\u001b[0m, in \u001b[0;36mJSONEncoder.default\u001b[1;34m(self, o)\u001b[0m\n\u001b[0;32m    161\u001b[0m \u001b[39mdef\u001b[39;00m \u001b[39mdefault\u001b[39m(\u001b[39mself\u001b[39m, o):\n\u001b[0;32m    162\u001b[0m \u001b[39m    \u001b[39m\u001b[39m\"\"\"Implement this method in a subclass such that it returns\u001b[39;00m\n\u001b[0;32m    163\u001b[0m \u001b[39m    a serializable object for ``o``, or calls the base implementation\u001b[39;00m\n\u001b[0;32m    164\u001b[0m \u001b[39m    (to raise a ``TypeError``).\u001b[39;00m\n\u001b[1;32m   (...)\u001b[0m\n\u001b[0;32m    178\u001b[0m \n\u001b[0;32m    179\u001b[0m \u001b[39m    \"\"\"\u001b[39;00m\n\u001b[1;32m--> 180\u001b[0m     \u001b[39mraise\u001b[39;00m \u001b[39mTypeError\u001b[39;00m(\u001b[39mf\u001b[39m\u001b[39m'\u001b[39m\u001b[39mObject of type \u001b[39m\u001b[39m{\u001b[39;00mo\u001b[39m.\u001b[39m\u001b[39m__class__\u001b[39m\u001b[39m.\u001b[39m\u001b[39m__name__\u001b[39m\u001b[39m}\u001b[39;00m\u001b[39m \u001b[39m\u001b[39m'\u001b[39m\n\u001b[0;32m    181\u001b[0m                     \u001b[39mf\u001b[39m\u001b[39m'\u001b[39m\u001b[39mis not JSON serializable\u001b[39m\u001b[39m'\u001b[39m)\n",
      "\u001b[1;31mTypeError\u001b[0m: Object of type Timestamp is not JSON serializable"
     ]
    },
    {
     "data": {
      "text/plain": [
       "<folium.folium.Map at 0x1c9e9c71c10>"
      ]
     },
     "execution_count": 6,
     "metadata": {},
     "output_type": "execute_result"
    }
   ],
   "source": [
    "street_flooding_gdf[popup_columns].explore('borough')"
   ]
  }
 ],
 "metadata": {
  "kernelspec": {
   "display_name": "nyc-street-flooding-analysis",
   "language": "python",
   "name": "python3"
  },
  "language_info": {
   "codemirror_mode": {
    "name": "ipython",
    "version": 3
   },
   "file_extension": ".py",
   "mimetype": "text/x-python",
   "name": "python",
   "nbconvert_exporter": "python",
   "pygments_lexer": "ipython3",
   "version": "3.11.0"
  },
  "orig_nbformat": 4,
  "vscode": {
   "interpreter": {
    "hash": "8faf5fcf33adbeb030828c995532f49ce6aeec881dbe0c2746b63b3efb333c96"
   }
  }
 },
 "nbformat": 4,
 "nbformat_minor": 2
}
