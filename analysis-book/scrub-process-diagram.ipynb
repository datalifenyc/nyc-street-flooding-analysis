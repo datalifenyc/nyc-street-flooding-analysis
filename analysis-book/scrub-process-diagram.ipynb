{
 "cells": [
  {
   "cell_type": "code",
   "execution_count": 1,
   "metadata": {},
   "outputs": [],
   "source": [
    "from diagrams import Cluster, Diagram, Edge\n",
    "from diagrams.aws.database import RDS\n",
    "from diagrams.onprem.compute import Server\n",
    "from diagrams.azure.database import DataLake"
   ]
  },
  {
   "cell_type": "code",
   "execution_count": 7,
   "metadata": {},
   "outputs": [],
   "source": [
    "with Diagram(\"\\nScrub and Merge: NYC Street Flooding Complaints with MapPLUTO\", \n",
    "             filename = 'img/scrub-process-diagram', \n",
    "             outformat = 'png',\n",
    "             show=False):\n",
    "    \n",
    "    street_flood_orig = RDS(\"NYC 311 Complaints\\nStreet Flooding\\n35,051\")\n",
    "\n",
    "    street_flood_clean = RDS(\"NYC 311 Complaints\\nStreet Flooding\\n34,044\")\n",
    "\n",
    "    with Cluster(\"MapPLUTO\"):\n",
    "        mappluto = [\n",
    "            Server(\"bbl\"),\n",
    "            Server(\"spatial join\"),\n",
    "            Server(\"spatial join\\n(nearest neighbor)\")\n",
    "        ]\n",
    "\n",
    "    mappluto[2] >> Edge(color=\"black\") >> DataLake('NYC Street Flooding\\nMapPLUTO')\n",
    "\n",
    "    street_flood_clean \\\n",
    "        >> Edge(color=\"darkgreen\", label = 'merge\\nwith\\nMapPluto') \\\n",
    "        >> mappluto[0] \\\n",
    "        >> mappluto[1] \\\n",
    "        >> mappluto[2]\n",
    "\n",
    "    \"\"\"street_flood_clean \\\n",
    "        >> Edge(color=\"darkgreen\", label = 'merge\\nwith\\nMapPluto') \\\n",
    "        >> mappluto\"\"\"\n",
    "    \n",
    "    street_flood_orig \\\n",
    "        >> Edge(label = 'remove\\nmissing\\ngeometry') \\\n",
    "        >> street_flood_clean"
   ]
  },
  {
   "cell_type": "code",
   "execution_count": null,
   "metadata": {},
   "outputs": [],
   "source": []
  }
 ],
 "metadata": {
  "kernelspec": {
   "display_name": "nyc-street-flooding-analysis",
   "language": "python",
   "name": "python3"
  },
  "language_info": {
   "codemirror_mode": {
    "name": "ipython",
    "version": 3
   },
   "file_extension": ".py",
   "mimetype": "text/x-python",
   "name": "python",
   "nbconvert_exporter": "python",
   "pygments_lexer": "ipython3",
   "version": "3.11.0"
  },
  "orig_nbformat": 4,
  "vscode": {
   "interpreter": {
    "hash": "8faf5fcf33adbeb030828c995532f49ce6aeec881dbe0c2746b63b3efb333c96"
   }
  }
 },
 "nbformat": 4,
 "nbformat_minor": 2
}
