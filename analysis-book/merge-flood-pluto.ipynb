version https://git-lfs.github.com/spec/v1
oid sha256:f44d71187f02e20a9e234a624042d27fa06e0e67962e5d707a23f6ae353c69e7
size 100491
