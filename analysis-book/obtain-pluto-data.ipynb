{
 "cells": [
  {
   "attachments": {},
   "cell_type": "markdown",
   "metadata": {},
   "source": [
    "# Primary Land Use Tax Lot Output (PLUTO)"
   ]
  },
  {
   "attachments": {},
   "cell_type": "markdown",
   "metadata": {},
   "source": [
    "## Source 1: NYC Open Data\n",
    "\n",
    "### PLUTO\n",
    "\n",
    "| Key | Value |\n",
    "| --- | ----- |\n",
    "| URL | https://data.cityofnewyork.us/City-Government/Primary-Land-Use-Tax-Lot-Output-PLUTO-/64uk-42ks |\n",
    "| Description | Extensive land use and geographic data at the tax lot level in comma–separated values (CSV) file format. The PLUTO files contain more than seventy fields derived from data maintained by city agencies. |\n",
    "| Updated | 2022-08-23 |\n",
    "| Update Frequency | Every 6 months |\n",
    "| Views | 10.5K |\n",
    "| Data Provided by | [Department of City Planning (DCP)](https://data.cityofnewyork.us/browse?Dataset-Information_Agency=Department+of+City+Planning+%28DCP%29) |\n",
    "| Category | [City Government](https://data.cityofnewyork.us/browse?category=Social+Services) |\n",
    "| API Docs | https://dev.socrata.com/foundry/data.cityofnewyork.us/64uk-42ks |\n",
    "| API Endpoints<br />(sample size: `10`) | [JSON](https://data.cityofnewyork.us/resource/64uk-42ks.json?$limit=10)<br>[GeoJSON](https://data.cityofnewyork.us/resource/erm2-nwe9.geojson?$limit=10)<br>[CSV](https://data.cityofnewyork.us/resource/erm2-nwe9.csv?$limit=10) |\n",
    "| Data Dictionary | [PLUTODD.pdf](https://data.cityofnewyork.us/api/views/64uk-42ks/files/0bef0427-36f5-4d8d-867a-84dfa2477b9c?download=true&filename=PLUTODD.pdf)\n",
    "| README | [PlutoReadme.pdf](https://data.cityofnewyork.us/api/views/64uk-42ks/files/ded66205-b6ef-4253-8b38-cc24b5fca8b6?download=true&filename=PlutoReadme.pdf) |\n",
    "\n",
    "\n",
    "### MapPLUTO\n",
    "\n",
    "| Key | Value |\n",
    "| --- | ----- |\n",
    "| URL | https://data.cityofnewyork.us/City-Government/Primary-Land-Use-Tax-Lot-Output-Map-MapPLUTO-/f888-ni5f |\n",
    "| Description | Extensive land use and geographic data at the tax lot level in GIS format (ESRI Shapefile). Contains more than seventy fields derived from data maintained by city agencies, merged with tax lot features from the Department of Finance’s Digital Tax Map, clipped to the shoreline. |\n",
    "| Updated | 2022-12-21 |\n",
    "| Update Frequency | Quarterly |\n",
    "| Views | 6K+ |\n",
    "| Data Provided by | [Department of City Planning (DCP)](https://data.cityofnewyork.us/browse?Dataset-Information_Agency=Department+of+City+Planning+%28DCP%29) |\n",
    "| Category | [City Government](https://data.cityofnewyork.us/browse?category=Social+Services) |\n",
    "| Data Dictionary | [PLUTODD22v3.pdf](https://data.cityofnewyork.us/api/views/f888-ni5f/files/a5f455ae-002e-4e78-ae17-f3dcc59c236d?download=true&filename=PLUTODD22v3.pdf)\n",
    "| README | [PlutoReadme22v3.pdf](https://data.cityofnewyork.us/api/views/f888-ni5f/files/97ca6e86-32cc-46f1-b85c-8d01e17e1602?download=true&filename=PlutoReadme22v3.pdf) |"
   ]
  },
  {
   "attachments": {},
   "cell_type": "markdown",
   "metadata": {},
   "source": [
    "## Source 2: NYC Dept. of City Planning\n",
    "\n",
    "### PLUTO\n",
    "\n",
    "| Key | Value |\n",
    "| --- | ----- |\n",
    "| URL | https://www.nyc.gov/site/planning/data-maps/open-data/dwn-pluto-mappluto.page |\n",
    "| Description | Extensive land use and geographic data at the tax lot level in comma–separated values (CSV) file format. The PLUTO files contain more than seventy fields derived from data maintained by city agencies. |\n",
    "| Release | 22v3.1 |\n",
    "| Date of Data | February 2023 |\n",
    "| Data Provided by | [Department of City Planning (DCP)](https://www.nyc.gov/site/planning/data-maps/open-data.page) |\n",
    "| Data Dictionary | [PLUTODD.pdf](https://s-media.nyc.gov/agencies/dcp/assets/files/pdf/data-tools/bytes/PLUTODD.pdf) |\n",
    "| README | [PlutoReadme.pdf](https://s-media.nyc.gov/agencies/dcp/assets/files/pdf/data-tools/bytes/PlutoReadme.pdf)\n",
    "| Download | [CSV](https://s-media.nyc.gov/agencies/dcp/assets/files/zip/data-tools/bytes/nyc_pluto_22v3_1_csv.zip) |\n",
    "\n",
    "### MapPluto\n",
    "\n",
    "| Key | Value |\n",
    "| --- | ----- |\n",
    "| URL | https://www.nyc.gov/site/planning/data-maps/open-data/dwn-pluto-mappluto.page |\n",
    "| Description | MapPLUTO merges PLUTO tax lot data with tax lot features from the Department of Finance’s Digital Tax Map (DTM) and is available as shoreline clipped and water included. It contains extensive land use and geographic data at the tax lot level in ESRI shapefile and File Geodatabase formats. |\n",
    "| Release | 22v3.1 |\n",
    "| Date of Data | February 2023 |\n",
    "| Data Provided by | [Department of City Planning (DCP)](https://www.nyc.gov/site/planning/data-maps/open-data.page) |\n",
    "| Metadata | [meta_mappluto.pdf](https://s-media.nyc.gov/agencies/dcp/assets/files/pdf/data-tools/bytes/meta_mappluto.pdf) |\n",
    "| Download | [MapPLUTO - Shoreline Clipped (FGDB)](https://s-media.nyc.gov/agencies/dcp/assets/files/zip/data-tools/bytes/nyc_mappluto_22v3_1_fgdb.zip)<br>[MapPLUTO - Water Included (FGDB)](https://s-media.nyc.gov/agencies/dcp/assets/files/zip/data-tools/bytes/nyc_mappluto_22v3_1_unclipped_fgdb.zip)<br>[MapPLUTO - Shoreline Clipped (Shapefile)](https://s-media.nyc.gov/agencies/dcp/assets/files/zip/data-tools/bytes/nyc_mappluto_22v3_1_shp.zip)<br>[MapPLUTO - Water Included (Shapefile)](https://s-media.nyc.gov/agencies/dcp/assets/files/zip/data-tools/bytes/nyc_mappluto_22v3_1_unclipped_shp.zip) |\n",
    "| REST API | [REST Endpoint](https://services5.arcgis.com/GfwWNkhOj9bNBqoJ/arcgis/rest/services/MAPPLUTO/FeatureServer/0) |\n"
   ]
  },
  {
   "attachments": {},
   "cell_type": "markdown",
   "metadata": {},
   "source": [
    "## Import Libraries"
   ]
  },
  {
   "cell_type": "markdown",
   "metadata": {},
   "source": [
    "### External Libraries"
   ]
  },
  {
   "cell_type": "code",
   "execution_count": 5,
   "metadata": {},
   "outputs": [],
   "source": [
    "import fiona"
   ]
  },
  {
   "attachments": {},
   "cell_type": "markdown",
   "metadata": {},
   "source": [
    "## Define Variables\n",
    "\n",
    "MapPLUTO - Water Included (FGDB)"
   ]
  },
  {
   "cell_type": "code",
   "execution_count": 6,
   "metadata": {},
   "outputs": [],
   "source": [
    "map_pluto_gdb_folder = 'data/PLUTO/MapPLUTO_22v3_1_water_included.gdb'"
   ]
  },
  {
   "attachments": {},
   "cell_type": "markdown",
   "metadata": {},
   "source": [
    "## Download `MapPLUTO` Dataset"
   ]
  },
  {
   "attachments": {},
   "cell_type": "markdown",
   "metadata": {},
   "source": [
    "### Save .gdb data locally to `data/PLUTO` folder"
   ]
  },
  {
   "cell_type": "code",
   "execution_count": 7,
   "metadata": {},
   "outputs": [
    {
     "name": "stdout",
     "output_type": "stream",
     "text": [
      "Download latest PLUTO and MapPLUTO datasets...\n",
      "\n",
      "Dataset: \"MapPLUTO_22v3_1_water_included.gdb\" already exists.\n",
      "\n",
      "SUCCESS.\n",
      "\n",
      "The process has completed.\n"
     ]
    }
   ],
   "source": [
    "!python obtainplutodata.py"
   ]
  },
  {
   "cell_type": "markdown",
   "metadata": {},
   "source": [
    "## View MapPLUTO Metadata"
   ]
  },
  {
   "cell_type": "code",
   "execution_count": 8,
   "metadata": {},
   "outputs": [],
   "source": [
    "map_pluto_gdb = fiona.open(map_pluto_gdb_folder)"
   ]
  },
  {
   "cell_type": "code",
   "execution_count": 9,
   "metadata": {},
   "outputs": [
    {
     "data": {
      "text/plain": [
       "'OpenFileGDB'"
      ]
     },
     "execution_count": 9,
     "metadata": {},
     "output_type": "execute_result"
    }
   ],
   "source": [
    "map_pluto_gdb.driver"
   ]
  },
  {
   "cell_type": "code",
   "execution_count": 10,
   "metadata": {},
   "outputs": [
    {
     "data": {
      "text/plain": [
       "{'properties': {'Borough': 'str:2',\n",
       "  'Block': 'int',\n",
       "  'Lot': 'int',\n",
       "  'CD': 'int',\n",
       "  'BCT2020': 'str:7',\n",
       "  'BCTCB2020': 'str:11',\n",
       "  'CT2010': 'str:7',\n",
       "  'CB2010': 'str:5',\n",
       "  'SchoolDist': 'str:3',\n",
       "  'Council': 'int',\n",
       "  'ZipCode': 'int',\n",
       "  'FireComp': 'str:4',\n",
       "  'PolicePrct': 'int',\n",
       "  'HealthCenterDistrict': 'int',\n",
       "  'HealthArea': 'int',\n",
       "  'Sanitboro': 'str:2',\n",
       "  'SanitDistrict': 'str:2',\n",
       "  'SanitSub': 'str:2',\n",
       "  'Address': 'str:39',\n",
       "  'ZoneDist1': 'str:9',\n",
       "  'ZoneDist2': 'str:9',\n",
       "  'ZoneDist3': 'str:9',\n",
       "  'ZoneDist4': 'str:9',\n",
       "  'Overlay1': 'str:4',\n",
       "  'Overlay2': 'str:4',\n",
       "  'SPDist1': 'str:12',\n",
       "  'SPDist2': 'str:12',\n",
       "  'SPDist3': 'str:12',\n",
       "  'LtdHeight': 'str:5',\n",
       "  'SplitZone': 'str:1',\n",
       "  'BldgClass': 'str:2',\n",
       "  'LandUse': 'str:2',\n",
       "  'Easements': 'int',\n",
       "  'OwnerType': 'str:1',\n",
       "  'OwnerName': 'str:85',\n",
       "  'LotArea': 'int',\n",
       "  'BldgArea': 'int',\n",
       "  'ComArea': 'int',\n",
       "  'ResArea': 'int',\n",
       "  'OfficeArea': 'int',\n",
       "  'RetailArea': 'int',\n",
       "  'GarageArea': 'int',\n",
       "  'StrgeArea': 'int',\n",
       "  'FactryArea': 'int',\n",
       "  'OtherArea': 'int',\n",
       "  'AreaSource': 'str:1',\n",
       "  'NumBldgs': 'int',\n",
       "  'NumFloors': 'float',\n",
       "  'UnitsRes': 'int',\n",
       "  'UnitsTotal': 'int',\n",
       "  'LotFront': 'float',\n",
       "  'LotDepth': 'float',\n",
       "  'BldgFront': 'float',\n",
       "  'BldgDepth': 'float',\n",
       "  'Ext': 'str:2',\n",
       "  'ProxCode': 'str:1',\n",
       "  'IrrLotCode': 'str:1',\n",
       "  'LotType': 'str:1',\n",
       "  'BsmtCode': 'str:1',\n",
       "  'AssessLand': 'float',\n",
       "  'AssessTot': 'float',\n",
       "  'ExemptTot': 'float',\n",
       "  'YearBuilt': 'int',\n",
       "  'YearAlter1': 'int',\n",
       "  'YearAlter2': 'int',\n",
       "  'HistDist': 'str:66',\n",
       "  'Landmark': 'str:150',\n",
       "  'BuiltFAR': 'float',\n",
       "  'ResidFAR': 'float',\n",
       "  'CommFAR': 'float',\n",
       "  'FacilFAR': 'float',\n",
       "  'BoroCode': 'int',\n",
       "  'BBL': 'float',\n",
       "  'CondoNo': 'int',\n",
       "  'Tract2010': 'str:7',\n",
       "  'XCoord': 'int',\n",
       "  'YCoord': 'int',\n",
       "  'ZoneMap': 'str:3',\n",
       "  'ZMCode': 'str:1',\n",
       "  'Sanborn': 'str:8',\n",
       "  'TaxMap': 'str:5',\n",
       "  'EDesigNum': 'str:5',\n",
       "  'APPBBL': 'float',\n",
       "  'APPDate': 'str:10',\n",
       "  'PLUTOMapID': 'str:1',\n",
       "  'FIRM07_FLAG': 'str:1',\n",
       "  'PFIRM15_FLAG': 'str:1',\n",
       "  'Version': 'str:6',\n",
       "  'DCPEdited': 'str:3',\n",
       "  'Latitude': 'float',\n",
       "  'Longitude': 'float',\n",
       "  'Notes': 'str:20',\n",
       "  'Shape_Leng': 'float',\n",
       "  'Shape_Area': 'float'},\n",
       " 'geometry': 'MultiPolygon'}"
      ]
     },
     "execution_count": 10,
     "metadata": {},
     "output_type": "execute_result"
    }
   ],
   "source": [
    "map_pluto_gdb.schema"
   ]
  },
  {
   "cell_type": "code",
   "execution_count": 11,
   "metadata": {},
   "outputs": [
    {
     "data": {
      "text/plain": [
       "CRS.from_wkt('PROJCS[\"NAD_1983_StatePlane_New_York_Long_Island_FIPS_3104_Feet\",GEOGCS[\"GCS_North_American_1983\",DATUM[\"D_North_American_1983\",SPHEROID[\"GRS_1980\",6378137,298.257222101]],PRIMEM[\"Greenwich\",0],UNIT[\"Degree\",0.0174532925199433]],PROJECTION[\"Lambert_Conformal_Conic_2SP\"],PARAMETER[\"latitude_of_origin\",40.1666666666667],PARAMETER[\"central_meridian\",-74],PARAMETER[\"standard_parallel_1\",40.6666666666667],PARAMETER[\"standard_parallel_2\",41.0333333333333],PARAMETER[\"false_easting\",984250],PARAMETER[\"false_northing\",0],UNIT[\"Foot_US\",0.304800609601219],AXIS[\"Easting\",EAST],AXIS[\"Northing\",NORTH],AUTHORITY[\"EPSG\",\"2263\"]]')"
      ]
     },
     "execution_count": 11,
     "metadata": {},
     "output_type": "execute_result"
    }
   ],
   "source": [
    "map_pluto_gdb.crs"
   ]
  },
  {
   "attachments": {},
   "cell_type": "markdown",
   "metadata": {},
   "source": [
    "## References\n",
    "\n",
    "### Fiona\n",
    "\n",
    "[Fiona | Fiona reads and writes geographic data files | GitHub](https://github.com/Toblerity/Fiona)\n",
    "\n",
    "\n",
    "`conda install -c conda-forge fiona`\n",
    "\n",
    "or\n",
    "\n",
    "`pip install fiona`\n"
   ]
  },
  {
   "cell_type": "markdown",
   "metadata": {},
   "source": []
  }
 ],
 "metadata": {
  "kernelspec": {
   "display_name": "nyc-street-flooding-analysis",
   "language": "python",
   "name": "python3"
  },
  "language_info": {
   "codemirror_mode": {
    "name": "ipython",
    "version": 3
   },
   "file_extension": ".py",
   "mimetype": "text/x-python",
   "name": "python",
   "nbconvert_exporter": "python",
   "pygments_lexer": "ipython3",
   "version": "3.11.0"
  },
  "orig_nbformat": 4,
  "vscode": {
   "interpreter": {
    "hash": "8faf5fcf33adbeb030828c995532f49ce6aeec881dbe0c2746b63b3efb333c96"
   }
  }
 },
 "nbformat": 4,
 "nbformat_minor": 2
}
