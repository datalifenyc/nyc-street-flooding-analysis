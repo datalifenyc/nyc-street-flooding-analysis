{
 "cells": [
  {
   "attachments": {},
   "cell_type": "markdown",
   "metadata": {},
   "source": [
    "# Clean Data\n",
    "\n",
    "![clean-merge-data](img/scrub-process-diagram.png)"
   ]
  },
  {
   "cell_type": "markdown",
   "metadata": {},
   "source": [
    "## Import Libraries"
   ]
  },
  {
   "cell_type": "markdown",
   "metadata": {},
   "source": [
    "### External Libraries"
   ]
  },
  {
   "cell_type": "code",
   "execution_count": 4,
   "metadata": {},
   "outputs": [],
   "source": [
    "import geopandas as gpd"
   ]
  },
  {
   "cell_type": "markdown",
   "metadata": {},
   "source": [
    "### External Libraries"
   ]
  },
  {
   "cell_type": "markdown",
   "metadata": {},
   "source": [
    "## Define Variables"
   ]
  },
  {
   "cell_type": "code",
   "execution_count": 5,
   "metadata": {},
   "outputs": [],
   "source": [
    "nyc_street_flooding_input = 'data/street-flooding/street-flood-complaints_rows-all.geojson'\n",
    "nyc_street_flooding_output = 'data/street-flooding/clean_street-flood-complaints_rows-all.geojson'"
   ]
  },
  {
   "cell_type": "markdown",
   "metadata": {},
   "source": [
    "## Get Original Data"
   ]
  },
  {
   "cell_type": "code",
   "execution_count": 6,
   "metadata": {},
   "outputs": [],
   "source": [
    "street_flooding_gdf = gpd.read_file(nyc_street_flooding_input)"
   ]
  },
  {
   "cell_type": "markdown",
   "metadata": {},
   "source": [
    "## Before Count"
   ]
  },
  {
   "cell_type": "code",
   "execution_count": 7,
   "metadata": {},
   "outputs": [
    {
     "name": "stdout",
     "output_type": "stream",
     "text": [
      "There were 35,051 street flooding complaints from 2010 to the present.\n"
     ]
    }
   ],
   "source": [
    "street_flooding_complaints_before_count = len(street_flooding_gdf)\n",
    "print(f'There were {street_flooding_complaints_before_count:,} street flooding complaints from 2010 to the present.')"
   ]
  },
  {
   "attachments": {},
   "cell_type": "markdown",
   "metadata": {},
   "source": [
    "## Set `unique_key` as Index"
   ]
  },
  {
   "cell_type": "code",
   "execution_count": 8,
   "metadata": {},
   "outputs": [],
   "source": [
    "street_flooding_gdf.set_index('unique_key', inplace=True)"
   ]
  },
  {
   "attachments": {},
   "cell_type": "markdown",
   "metadata": {},
   "source": [
    "## Remove Rows With Missing `geometry`"
   ]
  },
  {
   "cell_type": "code",
   "execution_count": 9,
   "metadata": {},
   "outputs": [],
   "source": [
    "street_flooding_gdf.dropna(subset = ['geometry'], inplace = True)"
   ]
  },
  {
   "attachments": {},
   "cell_type": "markdown",
   "metadata": {},
   "source": [
    "## After Count"
   ]
  },
  {
   "cell_type": "code",
   "execution_count": 10,
   "metadata": {},
   "outputs": [
    {
     "name": "stdout",
     "output_type": "stream",
     "text": [
      "There were 34,044 street flooding complaints after rows with missing geometry have been removed.\n"
     ]
    }
   ],
   "source": [
    "street_flooding_complaints_after_count = len(street_flooding_gdf)\n",
    "print(f'There were {street_flooding_complaints_after_count:,} street flooding complaints after rows with missing geometry have been removed.')"
   ]
  },
  {
   "attachments": {},
   "cell_type": "markdown",
   "metadata": {},
   "source": [
    "## Preview Street Flooding Data"
   ]
  },
  {
   "cell_type": "code",
   "execution_count": 11,
   "metadata": {},
   "outputs": [
    {
     "data": {
      "text/html": [
       "<div>\n",
       "<style scoped>\n",
       "    .dataframe tbody tr th:only-of-type {\n",
       "        vertical-align: middle;\n",
       "    }\n",
       "\n",
       "    .dataframe tbody tr th {\n",
       "        vertical-align: top;\n",
       "    }\n",
       "\n",
       "    .dataframe thead th {\n",
       "        text-align: right;\n",
       "    }\n",
       "</style>\n",
       "<table border=\"1\" class=\"dataframe\">\n",
       "  <thead>\n",
       "    <tr style=\"text-align: right;\">\n",
       "      <th></th>\n",
       "      <th>created_date</th>\n",
       "      <th>borough</th>\n",
       "      <th>bbl</th>\n",
       "      <th>geometry</th>\n",
       "    </tr>\n",
       "    <tr>\n",
       "      <th>unique_key</th>\n",
       "      <th></th>\n",
       "      <th></th>\n",
       "      <th></th>\n",
       "      <th></th>\n",
       "    </tr>\n",
       "  </thead>\n",
       "  <tbody>\n",
       "    <tr>\n",
       "      <th>15639934</th>\n",
       "      <td>2010-01-02 08:26:00</td>\n",
       "      <td>BROOKLYN</td>\n",
       "      <td>3089000064</td>\n",
       "      <td>POINT (-73.92178 40.58778)</td>\n",
       "    </tr>\n",
       "    <tr>\n",
       "      <th>15640572</th>\n",
       "      <td>2010-01-02 12:00:00</td>\n",
       "      <td>STATEN ISLAND</td>\n",
       "      <td>NaN</td>\n",
       "      <td>POINT (-74.14329 40.63866)</td>\n",
       "    </tr>\n",
       "    <tr>\n",
       "      <th>15640664</th>\n",
       "      <td>2010-01-02 17:45:00</td>\n",
       "      <td>QUEENS</td>\n",
       "      <td>4120050012</td>\n",
       "      <td>POINT (-73.79530 40.68140)</td>\n",
       "    </tr>\n",
       "    <tr>\n",
       "      <th>15655327</th>\n",
       "      <td>2010-01-04 16:47:00</td>\n",
       "      <td>QUEENS</td>\n",
       "      <td>4106210008</td>\n",
       "      <td>POINT (-73.73843 40.72006)</td>\n",
       "    </tr>\n",
       "    <tr>\n",
       "      <th>15668560</th>\n",
       "      <td>2010-01-05 10:37:00</td>\n",
       "      <td>BROOKLYN</td>\n",
       "      <td>3086550021</td>\n",
       "      <td>POINT (-73.90969 40.61250)</td>\n",
       "    </tr>\n",
       "    <tr>\n",
       "      <th>15674300</th>\n",
       "      <td>2010-01-06 19:26:00</td>\n",
       "      <td>BROOKLYN</td>\n",
       "      <td>3029270015</td>\n",
       "      <td>POINT (-73.93297 40.71584)</td>\n",
       "    </tr>\n",
       "    <tr>\n",
       "      <th>15674896</th>\n",
       "      <td>2010-01-06 08:24:00</td>\n",
       "      <td>QUEENS</td>\n",
       "      <td>4119960122</td>\n",
       "      <td>POINT (-73.80255 40.67925)</td>\n",
       "    </tr>\n",
       "    <tr>\n",
       "      <th>15674924</th>\n",
       "      <td>2010-01-06 09:17:00</td>\n",
       "      <td>STATEN ISLAND</td>\n",
       "      <td>5040740044</td>\n",
       "      <td>POINT (-74.10646 40.55866)</td>\n",
       "    </tr>\n",
       "    <tr>\n",
       "      <th>15675505</th>\n",
       "      <td>2010-01-06 06:00:00</td>\n",
       "      <td>QUEENS</td>\n",
       "      <td>4030030044</td>\n",
       "      <td>POINT (-73.87694 40.71804)</td>\n",
       "    </tr>\n",
       "    <tr>\n",
       "      <th>15683503</th>\n",
       "      <td>2010-01-07 10:16:00</td>\n",
       "      <td>STATEN ISLAND</td>\n",
       "      <td>5014850078</td>\n",
       "      <td>POINT (-74.14943 40.61979)</td>\n",
       "    </tr>\n",
       "  </tbody>\n",
       "</table>\n",
       "</div>"
      ],
      "text/plain": [
       "                  created_date        borough         bbl  \\\n",
       "unique_key                                                  \n",
       "15639934   2010-01-02 08:26:00       BROOKLYN  3089000064   \n",
       "15640572   2010-01-02 12:00:00  STATEN ISLAND         NaN   \n",
       "15640664   2010-01-02 17:45:00         QUEENS  4120050012   \n",
       "15655327   2010-01-04 16:47:00         QUEENS  4106210008   \n",
       "15668560   2010-01-05 10:37:00       BROOKLYN  3086550021   \n",
       "15674300   2010-01-06 19:26:00       BROOKLYN  3029270015   \n",
       "15674896   2010-01-06 08:24:00         QUEENS  4119960122   \n",
       "15674924   2010-01-06 09:17:00  STATEN ISLAND  5040740044   \n",
       "15675505   2010-01-06 06:00:00         QUEENS  4030030044   \n",
       "15683503   2010-01-07 10:16:00  STATEN ISLAND  5014850078   \n",
       "\n",
       "                              geometry  \n",
       "unique_key                              \n",
       "15639934    POINT (-73.92178 40.58778)  \n",
       "15640572    POINT (-74.14329 40.63866)  \n",
       "15640664    POINT (-73.79530 40.68140)  \n",
       "15655327    POINT (-73.73843 40.72006)  \n",
       "15668560    POINT (-73.90969 40.61250)  \n",
       "15674300    POINT (-73.93297 40.71584)  \n",
       "15674896    POINT (-73.80255 40.67925)  \n",
       "15674924    POINT (-74.10646 40.55866)  \n",
       "15675505    POINT (-73.87694 40.71804)  \n",
       "15683503    POINT (-74.14943 40.61979)  "
      ]
     },
     "execution_count": 11,
     "metadata": {},
     "output_type": "execute_result"
    }
   ],
   "source": [
    "street_flooding_gdf[['created_date', 'borough', 'bbl', 'geometry']].head(10)"
   ]
  },
  {
   "cell_type": "code",
   "execution_count": 12,
   "metadata": {},
   "outputs": [
    {
     "data": {
      "text/html": [
       "<div>\n",
       "<style scoped>\n",
       "    .dataframe tbody tr th:only-of-type {\n",
       "        vertical-align: middle;\n",
       "    }\n",
       "\n",
       "    .dataframe tbody tr th {\n",
       "        vertical-align: top;\n",
       "    }\n",
       "\n",
       "    .dataframe thead th {\n",
       "        text-align: right;\n",
       "    }\n",
       "</style>\n",
       "<table border=\"1\" class=\"dataframe\">\n",
       "  <thead>\n",
       "    <tr style=\"text-align: right;\">\n",
       "      <th></th>\n",
       "      <th>created_date</th>\n",
       "      <th>borough</th>\n",
       "      <th>bbl</th>\n",
       "      <th>geometry</th>\n",
       "    </tr>\n",
       "    <tr>\n",
       "      <th>unique_key</th>\n",
       "      <th></th>\n",
       "      <th></th>\n",
       "      <th></th>\n",
       "      <th></th>\n",
       "    </tr>\n",
       "  </thead>\n",
       "  <tbody>\n",
       "    <tr>\n",
       "      <th>56879833</th>\n",
       "      <td>2023-02-23 15:23:00</td>\n",
       "      <td>QUEENS</td>\n",
       "      <td>4137320024</td>\n",
       "      <td>POINT (-73.74717 40.65495)</td>\n",
       "    </tr>\n",
       "    <tr>\n",
       "      <th>56881026</th>\n",
       "      <td>2023-02-23 10:56:00</td>\n",
       "      <td>QUEENS</td>\n",
       "      <td>4142340587</td>\n",
       "      <td>POINT (-73.83003 40.65729)</td>\n",
       "    </tr>\n",
       "    <tr>\n",
       "      <th>56883191</th>\n",
       "      <td>2023-02-23 13:23:00</td>\n",
       "      <td>BROOKLYN</td>\n",
       "      <td>3080520059</td>\n",
       "      <td>POINT (-73.90364 40.63474)</td>\n",
       "    </tr>\n",
       "    <tr>\n",
       "      <th>56883535</th>\n",
       "      <td>2023-02-24 12:08:00</td>\n",
       "      <td>QUEENS</td>\n",
       "      <td>4137350024</td>\n",
       "      <td>POINT (-73.74752 40.65428)</td>\n",
       "    </tr>\n",
       "    <tr>\n",
       "      <th>56889664</th>\n",
       "      <td>2023-02-24 10:56:00</td>\n",
       "      <td>STATEN ISLAND</td>\n",
       "      <td>NaN</td>\n",
       "      <td>POINT (-74.13515 40.61709)</td>\n",
       "    </tr>\n",
       "    <tr>\n",
       "      <th>56894127</th>\n",
       "      <td>2023-02-25 21:17:00</td>\n",
       "      <td>QUEENS</td>\n",
       "      <td>4066360043</td>\n",
       "      <td>POINT (-73.82293 40.71523)</td>\n",
       "    </tr>\n",
       "    <tr>\n",
       "      <th>56895026</th>\n",
       "      <td>2023-02-25 12:47:00</td>\n",
       "      <td>QUEENS</td>\n",
       "      <td>4067470075</td>\n",
       "      <td>POINT (-73.81219 40.73705)</td>\n",
       "    </tr>\n",
       "    <tr>\n",
       "      <th>56899909</th>\n",
       "      <td>2023-02-25 20:08:00</td>\n",
       "      <td>BROOKLYN</td>\n",
       "      <td>3056230001</td>\n",
       "      <td>POINT (-73.99062 40.63595)</td>\n",
       "    </tr>\n",
       "    <tr>\n",
       "      <th>56900879</th>\n",
       "      <td>2023-02-26 09:08:00</td>\n",
       "      <td>QUEENS</td>\n",
       "      <td>4015360120</td>\n",
       "      <td>POINT (-73.88446 40.73925)</td>\n",
       "    </tr>\n",
       "    <tr>\n",
       "      <th>56904542</th>\n",
       "      <td>2023-02-26 18:05:00</td>\n",
       "      <td>STATEN ISLAND</td>\n",
       "      <td>5061080026</td>\n",
       "      <td>POINT (-74.20391 40.54321)</td>\n",
       "    </tr>\n",
       "  </tbody>\n",
       "</table>\n",
       "</div>"
      ],
      "text/plain": [
       "                  created_date        borough         bbl  \\\n",
       "unique_key                                                  \n",
       "56879833   2023-02-23 15:23:00         QUEENS  4137320024   \n",
       "56881026   2023-02-23 10:56:00         QUEENS  4142340587   \n",
       "56883191   2023-02-23 13:23:00       BROOKLYN  3080520059   \n",
       "56883535   2023-02-24 12:08:00         QUEENS  4137350024   \n",
       "56889664   2023-02-24 10:56:00  STATEN ISLAND         NaN   \n",
       "56894127   2023-02-25 21:17:00         QUEENS  4066360043   \n",
       "56895026   2023-02-25 12:47:00         QUEENS  4067470075   \n",
       "56899909   2023-02-25 20:08:00       BROOKLYN  3056230001   \n",
       "56900879   2023-02-26 09:08:00         QUEENS  4015360120   \n",
       "56904542   2023-02-26 18:05:00  STATEN ISLAND  5061080026   \n",
       "\n",
       "                              geometry  \n",
       "unique_key                              \n",
       "56879833    POINT (-73.74717 40.65495)  \n",
       "56881026    POINT (-73.83003 40.65729)  \n",
       "56883191    POINT (-73.90364 40.63474)  \n",
       "56883535    POINT (-73.74752 40.65428)  \n",
       "56889664    POINT (-74.13515 40.61709)  \n",
       "56894127    POINT (-73.82293 40.71523)  \n",
       "56895026    POINT (-73.81219 40.73705)  \n",
       "56899909    POINT (-73.99062 40.63595)  \n",
       "56900879    POINT (-73.88446 40.73925)  \n",
       "56904542    POINT (-74.20391 40.54321)  "
      ]
     },
     "execution_count": 12,
     "metadata": {},
     "output_type": "execute_result"
    }
   ],
   "source": [
    "street_flooding_gdf[['created_date', 'borough', 'bbl', 'geometry']].tail(10)"
   ]
  },
  {
   "cell_type": "markdown",
   "metadata": {},
   "source": [
    "## Save Clean Dataset"
   ]
  },
  {
   "cell_type": "code",
   "execution_count": 13,
   "metadata": {},
   "outputs": [],
   "source": [
    "street_flooding_gdf.to_file(nyc_street_flooding_output, driver='GeoJSON')"
   ]
  }
 ],
 "metadata": {
  "kernelspec": {
   "display_name": "nyc-street-flooding-analysis",
   "language": "python",
   "name": "python3"
  },
  "language_info": {
   "codemirror_mode": {
    "name": "ipython",
    "version": 3
   },
   "file_extension": ".py",
   "mimetype": "text/x-python",
   "name": "python",
   "nbconvert_exporter": "python",
   "pygments_lexer": "ipython3",
   "version": "3.11.0"
  },
  "orig_nbformat": 4,
  "vscode": {
   "interpreter": {
    "hash": "8faf5fcf33adbeb030828c995532f49ce6aeec881dbe0c2746b63b3efb333c96"
   }
  }
 },
 "nbformat": 4,
 "nbformat_minor": 2
}
