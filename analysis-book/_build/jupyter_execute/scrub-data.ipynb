{
 "cells": [
  {
   "cell_type": "markdown",
   "metadata": {},
   "source": [
    "# Clean Data"
   ]
  },
  {
   "cell_type": "markdown",
   "metadata": {},
   "source": [
    "## Import Libraries"
   ]
  },
  {
   "cell_type": "markdown",
   "metadata": {},
   "source": [
    "### External Libraries"
   ]
  },
  {
   "cell_type": "code",
   "execution_count": 1,
   "metadata": {},
   "outputs": [],
   "source": [
    "import geopandas as gpd"
   ]
  },
  {
   "cell_type": "markdown",
   "metadata": {},
   "source": [
    "### External Libraries"
   ]
  },
  {
   "cell_type": "markdown",
   "metadata": {},
   "source": [
    "## Define Variables"
   ]
  },
  {
   "cell_type": "code",
   "execution_count": 2,
   "metadata": {},
   "outputs": [],
   "source": [
    "nyc_street_flooding_input = 'data/street-flood-complaints_rows-all.geojson'\n",
    "nyc_street_flooding_output = 'data/clean_street-flood-complaints_rows-all.geojson'\n"
   ]
  },
  {
   "cell_type": "markdown",
   "metadata": {},
   "source": [
    "## Get Original Data"
   ]
  },
  {
   "cell_type": "code",
   "execution_count": 3,
   "metadata": {},
   "outputs": [],
   "source": [
    "street_flooding_gdf = gpd.read_file(nyc_street_flooding_input)"
   ]
  },
  {
   "attachments": {},
   "cell_type": "markdown",
   "metadata": {},
   "source": [
    "## Convert `datetime64` data type to string"
   ]
  },
  {
   "cell_type": "code",
   "execution_count": 4,
   "metadata": {},
   "outputs": [],
   "source": [
    "# created_date, resolution_action_updated_date, closed_date\n",
    "\n",
    "street_flooding_gdf['created_date'] = street_flooding_gdf['created_date'].dt.strftime('%Y-%m-%d %H:%M:%S')\n",
    "street_flooding_gdf['resolution_action_updated_date'] = street_flooding_gdf['resolution_action_updated_date'].dt.strftime('%Y-%m-%d %H:%M:%S')\n",
    "street_flooding_gdf['closed_date'] = street_flooding_gdf['closed_date'].dt.strftime('%Y-%m-%d %H:%M:%S')\n"
   ]
  },
  {
   "attachments": {},
   "cell_type": "markdown",
   "metadata": {},
   "source": [
    "## Set `unique_key` as Index"
   ]
  },
  {
   "cell_type": "code",
   "execution_count": 5,
   "metadata": {},
   "outputs": [],
   "source": [
    "street_flooding_gdf.set_index('unique_key', inplace=True)"
   ]
  },
  {
   "attachments": {},
   "cell_type": "markdown",
   "metadata": {},
   "source": [
    "## Remove Rows With Missing `geometry`"
   ]
  },
  {
   "cell_type": "code",
   "execution_count": 6,
   "metadata": {},
   "outputs": [],
   "source": [
    "street_flooding_gdf.dropna(subset = ['geometry'], inplace = True)"
   ]
  },
  {
   "attachments": {},
   "cell_type": "markdown",
   "metadata": {},
   "source": [
    "## Preview Street Flooding Data"
   ]
  },
  {
   "cell_type": "code",
   "execution_count": 7,
   "metadata": {},
   "outputs": [
    {
     "data": {
      "text/html": [
       "<div>\n",
       "<style scoped>\n",
       "    .dataframe tbody tr th:only-of-type {\n",
       "        vertical-align: middle;\n",
       "    }\n",
       "\n",
       "    .dataframe tbody tr th {\n",
       "        vertical-align: top;\n",
       "    }\n",
       "\n",
       "    .dataframe thead th {\n",
       "        text-align: right;\n",
       "    }\n",
       "</style>\n",
       "<table border=\"1\" class=\"dataframe\">\n",
       "  <thead>\n",
       "    <tr style=\"text-align: right;\">\n",
       "      <th></th>\n",
       "      <th>created_date</th>\n",
       "      <th>borough</th>\n",
       "      <th>bbl</th>\n",
       "      <th>geometry</th>\n",
       "    </tr>\n",
       "    <tr>\n",
       "      <th>unique_key</th>\n",
       "      <th></th>\n",
       "      <th></th>\n",
       "      <th></th>\n",
       "      <th></th>\n",
       "    </tr>\n",
       "  </thead>\n",
       "  <tbody>\n",
       "    <tr>\n",
       "      <th>15639934</th>\n",
       "      <td>2010-01-02 08:26:00</td>\n",
       "      <td>BROOKLYN</td>\n",
       "      <td>3089000064</td>\n",
       "      <td>POINT (-73.92178 40.58778)</td>\n",
       "    </tr>\n",
       "    <tr>\n",
       "      <th>15640572</th>\n",
       "      <td>2010-01-02 12:00:00</td>\n",
       "      <td>STATEN ISLAND</td>\n",
       "      <td>NaN</td>\n",
       "      <td>POINT (-74.14329 40.63866)</td>\n",
       "    </tr>\n",
       "    <tr>\n",
       "      <th>15640664</th>\n",
       "      <td>2010-01-02 17:45:00</td>\n",
       "      <td>QUEENS</td>\n",
       "      <td>4120050012</td>\n",
       "      <td>POINT (-73.79530 40.68140)</td>\n",
       "    </tr>\n",
       "    <tr>\n",
       "      <th>15655327</th>\n",
       "      <td>2010-01-04 16:47:00</td>\n",
       "      <td>QUEENS</td>\n",
       "      <td>4106210008</td>\n",
       "      <td>POINT (-73.73843 40.72006)</td>\n",
       "    </tr>\n",
       "    <tr>\n",
       "      <th>15668560</th>\n",
       "      <td>2010-01-05 10:37:00</td>\n",
       "      <td>BROOKLYN</td>\n",
       "      <td>3086550021</td>\n",
       "      <td>POINT (-73.90969 40.61250)</td>\n",
       "    </tr>\n",
       "    <tr>\n",
       "      <th>15674300</th>\n",
       "      <td>2010-01-06 19:26:00</td>\n",
       "      <td>BROOKLYN</td>\n",
       "      <td>3029270015</td>\n",
       "      <td>POINT (-73.93297 40.71584)</td>\n",
       "    </tr>\n",
       "    <tr>\n",
       "      <th>15674896</th>\n",
       "      <td>2010-01-06 08:24:00</td>\n",
       "      <td>QUEENS</td>\n",
       "      <td>4119960122</td>\n",
       "      <td>POINT (-73.80255 40.67925)</td>\n",
       "    </tr>\n",
       "    <tr>\n",
       "      <th>15674924</th>\n",
       "      <td>2010-01-06 09:17:00</td>\n",
       "      <td>STATEN ISLAND</td>\n",
       "      <td>5040740044</td>\n",
       "      <td>POINT (-74.10646 40.55866)</td>\n",
       "    </tr>\n",
       "    <tr>\n",
       "      <th>15675505</th>\n",
       "      <td>2010-01-06 06:00:00</td>\n",
       "      <td>QUEENS</td>\n",
       "      <td>4030030044</td>\n",
       "      <td>POINT (-73.87694 40.71804)</td>\n",
       "    </tr>\n",
       "    <tr>\n",
       "      <th>15683503</th>\n",
       "      <td>2010-01-07 10:16:00</td>\n",
       "      <td>STATEN ISLAND</td>\n",
       "      <td>5014850078</td>\n",
       "      <td>POINT (-74.14943 40.61979)</td>\n",
       "    </tr>\n",
       "  </tbody>\n",
       "</table>\n",
       "</div>"
      ],
      "text/plain": [
       "                   created_date        borough         bbl  \\\n",
       "unique_key                                                   \n",
       "15639934    2010-01-02 08:26:00       BROOKLYN  3089000064   \n",
       "15640572    2010-01-02 12:00:00  STATEN ISLAND         NaN   \n",
       "15640664    2010-01-02 17:45:00         QUEENS  4120050012   \n",
       "15655327    2010-01-04 16:47:00         QUEENS  4106210008   \n",
       "15668560    2010-01-05 10:37:00       BROOKLYN  3086550021   \n",
       "15674300    2010-01-06 19:26:00       BROOKLYN  3029270015   \n",
       "15674896    2010-01-06 08:24:00         QUEENS  4119960122   \n",
       "15674924    2010-01-06 09:17:00  STATEN ISLAND  5040740044   \n",
       "15675505    2010-01-06 06:00:00         QUEENS  4030030044   \n",
       "15683503    2010-01-07 10:16:00  STATEN ISLAND  5014850078   \n",
       "\n",
       "                              geometry  \n",
       "unique_key                              \n",
       "15639934    POINT (-73.92178 40.58778)  \n",
       "15640572    POINT (-74.14329 40.63866)  \n",
       "15640664    POINT (-73.79530 40.68140)  \n",
       "15655327    POINT (-73.73843 40.72006)  \n",
       "15668560    POINT (-73.90969 40.61250)  \n",
       "15674300    POINT (-73.93297 40.71584)  \n",
       "15674896    POINT (-73.80255 40.67925)  \n",
       "15674924    POINT (-74.10646 40.55866)  \n",
       "15675505    POINT (-73.87694 40.71804)  \n",
       "15683503    POINT (-74.14943 40.61979)  "
      ]
     },
     "execution_count": 7,
     "metadata": {},
     "output_type": "execute_result"
    }
   ],
   "source": [
    "street_flooding_gdf[['created_date', 'borough', 'bbl', 'geometry']].head(10)"
   ]
  },
  {
   "cell_type": "code",
   "execution_count": 8,
   "metadata": {},
   "outputs": [
    {
     "data": {
      "text/html": [
       "<div>\n",
       "<style scoped>\n",
       "    .dataframe tbody tr th:only-of-type {\n",
       "        vertical-align: middle;\n",
       "    }\n",
       "\n",
       "    .dataframe tbody tr th {\n",
       "        vertical-align: top;\n",
       "    }\n",
       "\n",
       "    .dataframe thead th {\n",
       "        text-align: right;\n",
       "    }\n",
       "</style>\n",
       "<table border=\"1\" class=\"dataframe\">\n",
       "  <thead>\n",
       "    <tr style=\"text-align: right;\">\n",
       "      <th></th>\n",
       "      <th>created_date</th>\n",
       "      <th>borough</th>\n",
       "      <th>bbl</th>\n",
       "      <th>geometry</th>\n",
       "    </tr>\n",
       "    <tr>\n",
       "      <th>unique_key</th>\n",
       "      <th></th>\n",
       "      <th></th>\n",
       "      <th></th>\n",
       "      <th></th>\n",
       "    </tr>\n",
       "  </thead>\n",
       "  <tbody>\n",
       "    <tr>\n",
       "      <th>56861586</th>\n",
       "      <td>2023-02-21 18:59:00</td>\n",
       "      <td>BROOKLYN</td>\n",
       "      <td>3068850023</td>\n",
       "      <td>POINT (-73.98458 40.59320)</td>\n",
       "    </tr>\n",
       "    <tr>\n",
       "      <th>56866123</th>\n",
       "      <td>2023-02-21 14:02:00</td>\n",
       "      <td>QUEENS</td>\n",
       "      <td>4160350046</td>\n",
       "      <td>POINT (-73.79850 40.59643)</td>\n",
       "    </tr>\n",
       "    <tr>\n",
       "      <th>56867763</th>\n",
       "      <td>2023-02-22 16:50:00</td>\n",
       "      <td>STATEN ISLAND</td>\n",
       "      <td>NaN</td>\n",
       "      <td>POINT (-74.12709 40.56090)</td>\n",
       "    </tr>\n",
       "    <tr>\n",
       "      <th>56869243</th>\n",
       "      <td>2023-02-22 14:29:00</td>\n",
       "      <td>BROOKLYN</td>\n",
       "      <td>NaN</td>\n",
       "      <td>POINT (-73.91557 40.65839)</td>\n",
       "    </tr>\n",
       "    <tr>\n",
       "      <th>56870344</th>\n",
       "      <td>2023-02-22 23:11:00</td>\n",
       "      <td>BROOKLYN</td>\n",
       "      <td>3071180035</td>\n",
       "      <td>POINT (-73.97940 40.59505)</td>\n",
       "    </tr>\n",
       "    <tr>\n",
       "      <th>56871278</th>\n",
       "      <td>2023-02-22 09:44:00</td>\n",
       "      <td>BROOKLYN</td>\n",
       "      <td>3013940054</td>\n",
       "      <td>POINT (-73.93773 40.66820)</td>\n",
       "    </tr>\n",
       "    <tr>\n",
       "      <th>56871467</th>\n",
       "      <td>2023-02-22 22:59:00</td>\n",
       "      <td>QUEENS</td>\n",
       "      <td>4021770036</td>\n",
       "      <td>POINT (-73.84646 40.72775)</td>\n",
       "    </tr>\n",
       "    <tr>\n",
       "      <th>56872479</th>\n",
       "      <td>2023-02-22 19:29:00</td>\n",
       "      <td>BROOKLYN</td>\n",
       "      <td>NaN</td>\n",
       "      <td>POINT (-73.94631 40.70021)</td>\n",
       "    </tr>\n",
       "    <tr>\n",
       "      <th>56872594</th>\n",
       "      <td>2023-02-22 07:26:00</td>\n",
       "      <td>STATEN ISLAND</td>\n",
       "      <td>5002250061</td>\n",
       "      <td>POINT (-74.12005 40.62831)</td>\n",
       "    </tr>\n",
       "    <tr>\n",
       "      <th>56874606</th>\n",
       "      <td>2023-02-22 19:02:00</td>\n",
       "      <td>BRONX</td>\n",
       "      <td>2057520275</td>\n",
       "      <td>POINT (-73.91923 40.88493)</td>\n",
       "    </tr>\n",
       "  </tbody>\n",
       "</table>\n",
       "</div>"
      ],
      "text/plain": [
       "                   created_date        borough         bbl  \\\n",
       "unique_key                                                   \n",
       "56861586    2023-02-21 18:59:00       BROOKLYN  3068850023   \n",
       "56866123    2023-02-21 14:02:00         QUEENS  4160350046   \n",
       "56867763    2023-02-22 16:50:00  STATEN ISLAND         NaN   \n",
       "56869243    2023-02-22 14:29:00       BROOKLYN         NaN   \n",
       "56870344    2023-02-22 23:11:00       BROOKLYN  3071180035   \n",
       "56871278    2023-02-22 09:44:00       BROOKLYN  3013940054   \n",
       "56871467    2023-02-22 22:59:00         QUEENS  4021770036   \n",
       "56872479    2023-02-22 19:29:00       BROOKLYN         NaN   \n",
       "56872594    2023-02-22 07:26:00  STATEN ISLAND  5002250061   \n",
       "56874606    2023-02-22 19:02:00          BRONX  2057520275   \n",
       "\n",
       "                              geometry  \n",
       "unique_key                              \n",
       "56861586    POINT (-73.98458 40.59320)  \n",
       "56866123    POINT (-73.79850 40.59643)  \n",
       "56867763    POINT (-74.12709 40.56090)  \n",
       "56869243    POINT (-73.91557 40.65839)  \n",
       "56870344    POINT (-73.97940 40.59505)  \n",
       "56871278    POINT (-73.93773 40.66820)  \n",
       "56871467    POINT (-73.84646 40.72775)  \n",
       "56872479    POINT (-73.94631 40.70021)  \n",
       "56872594    POINT (-74.12005 40.62831)  \n",
       "56874606    POINT (-73.91923 40.88493)  "
      ]
     },
     "execution_count": 8,
     "metadata": {},
     "output_type": "execute_result"
    }
   ],
   "source": [
    "street_flooding_gdf[['created_date', 'borough', 'bbl', 'geometry']].tail(10)"
   ]
  },
  {
   "cell_type": "markdown",
   "metadata": {},
   "source": [
    "## Save Clean Dataset"
   ]
  },
  {
   "cell_type": "code",
   "execution_count": 9,
   "metadata": {},
   "outputs": [],
   "source": [
    "street_flooding_gdf.to_file(nyc_street_flooding_output, driver='GeoJSON')"
   ]
  }
 ],
 "metadata": {
  "kernelspec": {
   "display_name": "nyc-street-flooding-analysis",
   "language": "python",
   "name": "python3"
  },
  "language_info": {
   "codemirror_mode": {
    "name": "ipython",
    "version": 3
   },
   "file_extension": ".py",
   "mimetype": "text/x-python",
   "name": "python",
   "nbconvert_exporter": "python",
   "pygments_lexer": "ipython3",
   "version": "3.11.0"
  },
  "vscode": {
   "interpreter": {
    "hash": "8faf5fcf33adbeb030828c995532f49ce6aeec881dbe0c2746b63b3efb333c96"
   }
  }
 },
 "nbformat": 4,
 "nbformat_minor": 2
}