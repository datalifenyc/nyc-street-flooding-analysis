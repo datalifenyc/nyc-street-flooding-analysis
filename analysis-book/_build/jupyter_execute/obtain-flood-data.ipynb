{
 "cells": [
  {
   "attachments": {},
   "cell_type": "markdown",
   "metadata": {},
   "source": [
    "# Street Flooding Complaints (SFC)"
   ]
  },
  {
   "attachments": {},
   "cell_type": "markdown",
   "metadata": {},
   "source": [
    "## Source: 311 Service Requests from 2010 to Present"
   ]
  },
  {
   "attachments": {},
   "cell_type": "markdown",
   "metadata": {},
   "source": [
    "### About\n",
    "\n",
    "| Key | Value |\n",
    "| --- | ----- |\n",
    "| URL | https://data.cityofnewyork.us/Social-Services/311-Service-Requests-from-2010-to-Present/erm2-nwe9 |\n",
    "| Description | All 311 Service Requests from 2010 to present. |\n",
    "| Updated | 2023-02-15 |\n",
    "| Update Frequency | Daily |\n",
    "| Views | 440K+ |\n",
    "| Data Provided by | [311](https://data.cityofnewyork.us/browse?Dataset-Information_Agency=311), DoITT |\n",
    "| Category | [Social Services](https://data.cityofnewyork.us/browse?category=Social+Services) |\n",
    "| API Docs | https://dev.socrata.com/foundry/data.cityofnewyork.us/erm2-nwe9 |\n",
    "| API Endpoints<br />(sample size: `10`) | [JSON](https://data.cityofnewyork.us/resource/erm2-nwe9.json?$limit=10&descriptor=Street%20Flooding%20(SJ))<br>[GeoJSON](https://data.cityofnewyork.us/resource/erm2-nwe9.geojson?$limit=10&descriptor=Street%20Flooding%20(SJ))<br>[CSV](https://data.cityofnewyork.us/resource/erm2-nwe9.csv?$limit=10&descriptor=Street%20Flooding%20(SJ)) |\n",
    "| Data Dictionary | [311_SR_Data_Dictionary_2018.xlsx](https://data.cityofnewyork.us/api/views/erm2-nwe9/files/68b25fbb-9d30-486a-a571-7115f54911cd?download=true&filename=311_SR_Data_Dictionary_2018.xlsx)\n",
    "| `complaint_type` | Sewer |\n",
    "| `descriptor` | Street Flooding (SJ) |"
   ]
  },
  {
   "attachments": {},
   "cell_type": "markdown",
   "metadata": {},
   "source": [
    "## Import Libraries"
   ]
  },
  {
   "attachments": {},
   "cell_type": "markdown",
   "metadata": {},
   "source": [
    "### Built-in Libraries"
   ]
  },
  {
   "cell_type": "code",
   "execution_count": 1,
   "metadata": {},
   "outputs": [],
   "source": [
    "# import json\n",
    "import os\n",
    "from datetime import datetime as dt\n",
    "from pathlib import Path"
   ]
  },
  {
   "attachments": {},
   "cell_type": "markdown",
   "metadata": {},
   "source": [
    "### External Libraries"
   ]
  },
  {
   "cell_type": "code",
   "execution_count": 2,
   "metadata": {},
   "outputs": [],
   "source": [
    "import pyproj\n",
    "import geopandas as gpd\n",
    "import pandas as pd\n",
    "# import geojson as gj"
   ]
  },
  {
   "attachments": {},
   "cell_type": "markdown",
   "metadata": {},
   "source": [
    "### Define Variables\n",
    "\n",
    "Default limit = 1000 \n"
   ]
  },
  {
   "cell_type": "code",
   "execution_count": 3,
   "metadata": {},
   "outputs": [
    {
     "name": "stdout",
     "output_type": "stream",
     "text": [
      "skip\n"
     ]
    }
   ],
   "source": [
    "%%script echo skip\n",
    "NYC_OPEN_DATA_311_API_JSON = 'https://data.cityofnewyork.us/resource/erm2-nwe9.json?descriptor=Street%20Flooding%20(SJ)'\n",
    "NYC_OPEN_DATA_311_API_GEOJSON = 'https://data.cityofnewyork.us/resource/erm2-nwe9.geojson?descriptor=Street%20Flooding%20(SJ)'\n",
    "NYC_OPEN_DATA_311_API_CSV = 'https://data.cityofnewyork.us/resource/erm2-nwe9.csv?descriptor=Street%20Flooding%20(SJ)'\n"
   ]
  },
  {
   "attachments": {},
   "cell_type": "markdown",
   "metadata": {},
   "source": [
    "### Download 311 Service Complaints for `Street Flooding (SJ)`"
   ]
  },
  {
   "attachments": {},
   "cell_type": "markdown",
   "metadata": {},
   "source": [
    "#### Save `.geojson` data locally"
   ]
  },
  {
   "cell_type": "code",
   "execution_count": 4,
   "metadata": {},
   "outputs": [
    {
     "name": "stdout",
     "output_type": "stream",
     "text": [
      "Downloading Latest Street Flooding Dataset...\n",
      "\n",
      "Street flooding dataset has already been download for 2023-02-24.\n",
      "\n",
      "Download Complete\n"
     ]
    }
   ],
   "source": [
    "!python nycstreetflood.py"
   ]
  },
  {
   "attachments": {},
   "cell_type": "markdown",
   "metadata": {},
   "source": [
    "#### Define prefix for output variable"
   ]
  },
  {
   "cell_type": "code",
   "execution_count": 5,
   "metadata": {},
   "outputs": [
    {
     "name": "stdout",
     "output_type": "stream",
     "text": [
      "skip\n"
     ]
    }
   ],
   "source": [
    "%%script echo skip\n",
    "output_prefix = 'data/street_flood-complaints.'"
   ]
  },
  {
   "attachments": {},
   "cell_type": "markdown",
   "metadata": {},
   "source": [
    "#### Save `.json` data locally"
   ]
  },
  {
   "cell_type": "code",
   "execution_count": 6,
   "metadata": {},
   "outputs": [
    {
     "name": "stdout",
     "output_type": "stream",
     "text": [
      "skip\n"
     ]
    }
   ],
   "source": [
    "%%script echo skip\n",
    "street_flooding_jdf = pd.read_json(NYC_OPEN_DATA_311_API_JSON)\n",
    "street_flooding_jdf.to_json(output_prefix + 'json')"
   ]
  },
  {
   "attachments": {},
   "cell_type": "markdown",
   "metadata": {},
   "source": [
    "### Save `.csv` data locally"
   ]
  },
  {
   "cell_type": "code",
   "execution_count": 7,
   "metadata": {},
   "outputs": [
    {
     "name": "stdout",
     "output_type": "stream",
     "text": [
      "skip\n"
     ]
    }
   ],
   "source": [
    "%%script echo skip\n",
    "street_flooding_cdf = pd.read_csv(NYC_OPEN_DATA_311_API_CSV)\n",
    "street_flooding_cdf.to_csv(output_prefix + 'csv')"
   ]
  },
  {
   "attachments": {},
   "cell_type": "markdown",
   "metadata": {},
   "source": [
    "### View Street Flooding Metadata"
   ]
  },
  {
   "cell_type": "code",
   "execution_count": 8,
   "metadata": {},
   "outputs": [],
   "source": [
    "nyc_street_flooding_geojson = 'data/street-flood-complaints_rows-all.geojson'\n",
    "street_flooding_gdf = gpd.read_file(nyc_street_flooding_geojson)\n"
   ]
  },
  {
   "cell_type": "code",
   "execution_count": 9,
   "metadata": {},
   "outputs": [
    {
     "name": "stdout",
     "output_type": "stream",
     "text": [
      "<class 'geopandas.geodataframe.GeoDataFrame'>\n",
      "RangeIndex: 35040 entries, 0 to 35039\n",
      "Data columns (total 45 columns):\n",
      " #   Column                          Non-Null Count  Dtype         \n",
      "---  ------                          --------------  -----         \n",
      " 0   location_state                  34033 non-null  object        \n",
      " 1   facility_type                   23296 non-null  object        \n",
      " 2   intersection_street_2           11298 non-null  object        \n",
      " 3   city                            34175 non-null  object        \n",
      " 4   location_zip                    34033 non-null  object        \n",
      " 5   park_borough                    35036 non-null  object        \n",
      " 6   latitude                        34033 non-null  object        \n",
      " 7   road_ramp                       0 non-null      float64       \n",
      " 8   created_date                    35040 non-null  datetime64[ns]\n",
      " 9   agency                          35040 non-null  object        \n",
      " 10  park_facility_name              35040 non-null  object        \n",
      " 11  location_address                34033 non-null  object        \n",
      " 12  agency_name                     35040 non-null  object        \n",
      " 13  descriptor                      35040 non-null  object        \n",
      " 14  bbl                             21692 non-null  object        \n",
      " 15  location_city                   34033 non-null  object        \n",
      " 16  open_data_channel_type          35040 non-null  object        \n",
      " 17  cross_street_2                  30060 non-null  object        \n",
      " 18  bridge_highway_direction        0 non-null      float64       \n",
      " 19  longitude                       34033 non-null  object        \n",
      " 20  bridge_highway_segment          0 non-null      float64       \n",
      " 21  street_name                     23794 non-null  object        \n",
      " 22  incident_address                23794 non-null  object        \n",
      " 23  address_type                    35034 non-null  object        \n",
      " 24  incident_zip                    34171 non-null  object        \n",
      " 25  unique_key                      35040 non-null  object        \n",
      " 26  complaint_type                  35040 non-null  object        \n",
      " 27  y_coordinate_state_plane        34033 non-null  object        \n",
      " 28  status                          35040 non-null  object        \n",
      " 29  bridge_highway_name             0 non-null      float64       \n",
      " 30  location_type                   0 non-null      float64       \n",
      " 31  due_date                        1 non-null      datetime64[ns]\n",
      " 32  taxi_company_borough            0 non-null      float64       \n",
      " 33  taxi_pick_up_location           0 non-null      float64       \n",
      " 34  x_coordinate_state_plane        34033 non-null  object        \n",
      " 35  resolution_description          35012 non-null  object        \n",
      " 36  community_board                 35036 non-null  object        \n",
      " 37  resolution_action_updated_date  35020 non-null  datetime64[ns]\n",
      " 38  intersection_street_1           11298 non-null  object        \n",
      " 39  closed_date                     35010 non-null  datetime64[ns]\n",
      " 40  vehicle_type                    0 non-null      float64       \n",
      " 41  cross_street_1                  30070 non-null  object        \n",
      " 42  borough                         35036 non-null  object        \n",
      " 43  landmark                        0 non-null      float64       \n",
      " 44  geometry                        34033 non-null  geometry      \n",
      "dtypes: datetime64[ns](4), float64(9), geometry(1), object(31)\n",
      "memory usage: 12.0+ MB\n"
     ]
    }
   ],
   "source": [
    "street_flooding_gdf.info()"
   ]
  },
  {
   "cell_type": "markdown",
   "metadata": {},
   "source": [
    "#### Coordinate Reference System (CRS)"
   ]
  },
  {
   "cell_type": "code",
   "execution_count": 10,
   "metadata": {},
   "outputs": [
    {
     "data": {
      "text/plain": [
       "<Geographic 2D CRS: EPSG:4326>\n",
       "Name: WGS 84\n",
       "Axis Info [ellipsoidal]:\n",
       "- Lat[north]: Geodetic latitude (degree)\n",
       "- Lon[east]: Geodetic longitude (degree)\n",
       "Area of Use:\n",
       "- undefined\n",
       "Datum: World Geodetic System 1984\n",
       "- Ellipsoid: WGS 84\n",
       "- Prime Meridian: Greenwich"
      ]
     },
     "execution_count": 10,
     "metadata": {},
     "output_type": "execute_result"
    }
   ],
   "source": [
    "street_flooding_gdf.crs"
   ]
  },
  {
   "cell_type": "markdown",
   "metadata": {},
   "source": [
    "### Preview Data"
   ]
  },
  {
   "cell_type": "code",
   "execution_count": 11,
   "metadata": {},
   "outputs": [
    {
     "data": {
      "text/html": [
       "<div>\n",
       "<style scoped>\n",
       "    .dataframe tbody tr th:only-of-type {\n",
       "        vertical-align: middle;\n",
       "    }\n",
       "\n",
       "    .dataframe tbody tr th {\n",
       "        vertical-align: top;\n",
       "    }\n",
       "\n",
       "    .dataframe thead th {\n",
       "        text-align: right;\n",
       "    }\n",
       "</style>\n",
       "<table border=\"1\" class=\"dataframe\">\n",
       "  <thead>\n",
       "    <tr style=\"text-align: right;\">\n",
       "      <th></th>\n",
       "      <th>created_date</th>\n",
       "      <th>borough</th>\n",
       "      <th>bbl</th>\n",
       "      <th>geometry</th>\n",
       "    </tr>\n",
       "  </thead>\n",
       "  <tbody>\n",
       "    <tr>\n",
       "      <th>0</th>\n",
       "      <td>2010-01-02 08:26:00</td>\n",
       "      <td>BROOKLYN</td>\n",
       "      <td>3089000064</td>\n",
       "      <td>POINT (-73.92178 40.58778)</td>\n",
       "    </tr>\n",
       "    <tr>\n",
       "      <th>1</th>\n",
       "      <td>2010-01-02 12:00:00</td>\n",
       "      <td>STATEN ISLAND</td>\n",
       "      <td>NaN</td>\n",
       "      <td>POINT (-74.14329 40.63866)</td>\n",
       "    </tr>\n",
       "    <tr>\n",
       "      <th>2</th>\n",
       "      <td>2010-01-02 17:45:00</td>\n",
       "      <td>QUEENS</td>\n",
       "      <td>4120050012</td>\n",
       "      <td>POINT (-73.79530 40.68140)</td>\n",
       "    </tr>\n",
       "    <tr>\n",
       "      <th>3</th>\n",
       "      <td>2010-01-04 16:47:00</td>\n",
       "      <td>QUEENS</td>\n",
       "      <td>4106210008</td>\n",
       "      <td>POINT (-73.73843 40.72006)</td>\n",
       "    </tr>\n",
       "    <tr>\n",
       "      <th>4</th>\n",
       "      <td>2010-01-05 10:37:00</td>\n",
       "      <td>BROOKLYN</td>\n",
       "      <td>3086550021</td>\n",
       "      <td>POINT (-73.90969 40.61250)</td>\n",
       "    </tr>\n",
       "    <tr>\n",
       "      <th>5</th>\n",
       "      <td>2010-01-06 19:26:00</td>\n",
       "      <td>BROOKLYN</td>\n",
       "      <td>3029270015</td>\n",
       "      <td>POINT (-73.93297 40.71584)</td>\n",
       "    </tr>\n",
       "    <tr>\n",
       "      <th>6</th>\n",
       "      <td>2010-01-06 08:24:00</td>\n",
       "      <td>QUEENS</td>\n",
       "      <td>4119960122</td>\n",
       "      <td>POINT (-73.80255 40.67925)</td>\n",
       "    </tr>\n",
       "    <tr>\n",
       "      <th>7</th>\n",
       "      <td>2010-01-06 09:17:00</td>\n",
       "      <td>STATEN ISLAND</td>\n",
       "      <td>5040740044</td>\n",
       "      <td>POINT (-74.10646 40.55866)</td>\n",
       "    </tr>\n",
       "    <tr>\n",
       "      <th>8</th>\n",
       "      <td>2010-01-06 06:00:00</td>\n",
       "      <td>QUEENS</td>\n",
       "      <td>4030030044</td>\n",
       "      <td>POINT (-73.87694 40.71804)</td>\n",
       "    </tr>\n",
       "    <tr>\n",
       "      <th>9</th>\n",
       "      <td>2010-01-07 10:16:00</td>\n",
       "      <td>STATEN ISLAND</td>\n",
       "      <td>5014850078</td>\n",
       "      <td>POINT (-74.14943 40.61979)</td>\n",
       "    </tr>\n",
       "  </tbody>\n",
       "</table>\n",
       "</div>"
      ],
      "text/plain": [
       "         created_date        borough         bbl                    geometry\n",
       "0 2010-01-02 08:26:00       BROOKLYN  3089000064  POINT (-73.92178 40.58778)\n",
       "1 2010-01-02 12:00:00  STATEN ISLAND         NaN  POINT (-74.14329 40.63866)\n",
       "2 2010-01-02 17:45:00         QUEENS  4120050012  POINT (-73.79530 40.68140)\n",
       "3 2010-01-04 16:47:00         QUEENS  4106210008  POINT (-73.73843 40.72006)\n",
       "4 2010-01-05 10:37:00       BROOKLYN  3086550021  POINT (-73.90969 40.61250)\n",
       "5 2010-01-06 19:26:00       BROOKLYN  3029270015  POINT (-73.93297 40.71584)\n",
       "6 2010-01-06 08:24:00         QUEENS  4119960122  POINT (-73.80255 40.67925)\n",
       "7 2010-01-06 09:17:00  STATEN ISLAND  5040740044  POINT (-74.10646 40.55866)\n",
       "8 2010-01-06 06:00:00         QUEENS  4030030044  POINT (-73.87694 40.71804)\n",
       "9 2010-01-07 10:16:00  STATEN ISLAND  5014850078  POINT (-74.14943 40.61979)"
      ]
     },
     "execution_count": 11,
     "metadata": {},
     "output_type": "execute_result"
    }
   ],
   "source": [
    "street_flooding_gdf[['created_date', 'borough', 'bbl', 'geometry']].head(10)"
   ]
  },
  {
   "cell_type": "code",
   "execution_count": 12,
   "metadata": {},
   "outputs": [
    {
     "data": {
      "text/html": [
       "<div>\n",
       "<style scoped>\n",
       "    .dataframe tbody tr th:only-of-type {\n",
       "        vertical-align: middle;\n",
       "    }\n",
       "\n",
       "    .dataframe tbody tr th {\n",
       "        vertical-align: top;\n",
       "    }\n",
       "\n",
       "    .dataframe thead th {\n",
       "        text-align: right;\n",
       "    }\n",
       "</style>\n",
       "<table border=\"1\" class=\"dataframe\">\n",
       "  <thead>\n",
       "    <tr style=\"text-align: right;\">\n",
       "      <th></th>\n",
       "      <th>created_date</th>\n",
       "      <th>borough</th>\n",
       "      <th>bbl</th>\n",
       "      <th>geometry</th>\n",
       "    </tr>\n",
       "  </thead>\n",
       "  <tbody>\n",
       "    <tr>\n",
       "      <th>35030</th>\n",
       "      <td>2023-02-21 18:59:00</td>\n",
       "      <td>BROOKLYN</td>\n",
       "      <td>3068850023</td>\n",
       "      <td>POINT (-73.98458 40.59320)</td>\n",
       "    </tr>\n",
       "    <tr>\n",
       "      <th>35031</th>\n",
       "      <td>2023-02-21 14:02:00</td>\n",
       "      <td>QUEENS</td>\n",
       "      <td>4160350046</td>\n",
       "      <td>POINT (-73.79850 40.59643)</td>\n",
       "    </tr>\n",
       "    <tr>\n",
       "      <th>35032</th>\n",
       "      <td>2023-02-22 16:50:00</td>\n",
       "      <td>STATEN ISLAND</td>\n",
       "      <td>NaN</td>\n",
       "      <td>POINT (-74.12709 40.56090)</td>\n",
       "    </tr>\n",
       "    <tr>\n",
       "      <th>35033</th>\n",
       "      <td>2023-02-22 14:29:00</td>\n",
       "      <td>BROOKLYN</td>\n",
       "      <td>NaN</td>\n",
       "      <td>POINT (-73.91557 40.65839)</td>\n",
       "    </tr>\n",
       "    <tr>\n",
       "      <th>35034</th>\n",
       "      <td>2023-02-22 23:11:00</td>\n",
       "      <td>BROOKLYN</td>\n",
       "      <td>3071180035</td>\n",
       "      <td>POINT (-73.97940 40.59505)</td>\n",
       "    </tr>\n",
       "    <tr>\n",
       "      <th>35035</th>\n",
       "      <td>2023-02-22 09:44:00</td>\n",
       "      <td>BROOKLYN</td>\n",
       "      <td>3013940054</td>\n",
       "      <td>POINT (-73.93773 40.66820)</td>\n",
       "    </tr>\n",
       "    <tr>\n",
       "      <th>35036</th>\n",
       "      <td>2023-02-22 22:59:00</td>\n",
       "      <td>QUEENS</td>\n",
       "      <td>4021770036</td>\n",
       "      <td>POINT (-73.84646 40.72775)</td>\n",
       "    </tr>\n",
       "    <tr>\n",
       "      <th>35037</th>\n",
       "      <td>2023-02-22 19:29:00</td>\n",
       "      <td>BROOKLYN</td>\n",
       "      <td>NaN</td>\n",
       "      <td>POINT (-73.94631 40.70021)</td>\n",
       "    </tr>\n",
       "    <tr>\n",
       "      <th>35038</th>\n",
       "      <td>2023-02-22 07:26:00</td>\n",
       "      <td>STATEN ISLAND</td>\n",
       "      <td>5002250061</td>\n",
       "      <td>POINT (-74.12005 40.62831)</td>\n",
       "    </tr>\n",
       "    <tr>\n",
       "      <th>35039</th>\n",
       "      <td>2023-02-22 19:02:00</td>\n",
       "      <td>BRONX</td>\n",
       "      <td>2057520275</td>\n",
       "      <td>POINT (-73.91923 40.88493)</td>\n",
       "    </tr>\n",
       "  </tbody>\n",
       "</table>\n",
       "</div>"
      ],
      "text/plain": [
       "             created_date        borough         bbl  \\\n",
       "35030 2023-02-21 18:59:00       BROOKLYN  3068850023   \n",
       "35031 2023-02-21 14:02:00         QUEENS  4160350046   \n",
       "35032 2023-02-22 16:50:00  STATEN ISLAND         NaN   \n",
       "35033 2023-02-22 14:29:00       BROOKLYN         NaN   \n",
       "35034 2023-02-22 23:11:00       BROOKLYN  3071180035   \n",
       "35035 2023-02-22 09:44:00       BROOKLYN  3013940054   \n",
       "35036 2023-02-22 22:59:00         QUEENS  4021770036   \n",
       "35037 2023-02-22 19:29:00       BROOKLYN         NaN   \n",
       "35038 2023-02-22 07:26:00  STATEN ISLAND  5002250061   \n",
       "35039 2023-02-22 19:02:00          BRONX  2057520275   \n",
       "\n",
       "                         geometry  \n",
       "35030  POINT (-73.98458 40.59320)  \n",
       "35031  POINT (-73.79850 40.59643)  \n",
       "35032  POINT (-74.12709 40.56090)  \n",
       "35033  POINT (-73.91557 40.65839)  \n",
       "35034  POINT (-73.97940 40.59505)  \n",
       "35035  POINT (-73.93773 40.66820)  \n",
       "35036  POINT (-73.84646 40.72775)  \n",
       "35037  POINT (-73.94631 40.70021)  \n",
       "35038  POINT (-74.12005 40.62831)  \n",
       "35039  POINT (-73.91923 40.88493)  "
      ]
     },
     "execution_count": 12,
     "metadata": {},
     "output_type": "execute_result"
    }
   ],
   "source": [
    "street_flooding_gdf[['created_date', 'borough', 'bbl', 'geometry']].tail(10)"
   ]
  },
  {
   "attachments": {},
   "cell_type": "markdown",
   "metadata": {},
   "source": [
    "## References\n",
    "\n",
    "### Python Standard Library\n",
    "\n",
    "#### Format\n",
    "\n",
    "[How to pad zeros to a String in Python | Python Engineer](https://www.python-engineer.com/posts/pad-zeros-string/)  \n",
    "Contributer: [@Patrick Loeber](https://patloeber.com)\n",
    "\n",
    "#### Date and Time\n",
    "\n",
    "[datetime — Basic date and time types | Python > Documentation](https://docs.python.org/3/library/datetime.html)\n",
    "\n",
    "#### File & Path I/O\n",
    "\n",
    "[pathlib — Object-oriented filesystem paths | Python > Documentation](https://docs.python.org/3/library/pathlib.html)\n",
    "\n",
    "### GeoPandas\n",
    "\n",
    "#### User Guide\n",
    "\n",
    "[Reading and Writing Files | GoePandas - Documentation - User Guide](https://geopandas.org/en/stable/docs/user_guide/io.html)\n",
    "\n",
    "[Merging Data | GeoPandas - Documentation - User Guide](https://geopandas.org/en/stable/docs/user_guide/mergingdata.html)\n",
    "\n",
    "#### API Reference\n",
    "\n",
    "[geopandas.GeoDataFrame.to_file | GeoPandas API reference](https://geopandas.org/en/stable/docs/reference/api/geopandas.GeoDataFrame.to_file.html)\n",
    "\n",
    "### Jupyter Notebook\n",
    "\n",
    "#### Magic (%%) Commands\n",
    "\n",
    "[How to (intermittently) skip certain cells when running IPython notebook? | stackoverflow](https://stackoverflow.com/questions/19309287/how-to-intermittently-skip-certain-cells-when-running-ipython-notebook)  \n",
    "Contributor: [@Mark](https://stackoverflow.com/users/420385/mark)\n",
    "\n",
    "### pyproj\n",
    "\n",
    "[On fresh Conda installation of PyProj: pyproj unable to set database path. _pyproj_global_context_initialize()](https://stackoverflow.com/questions/69630630/on-fresh-conda-installation-of-pyproj-pyproj-unable-to-set-database-path-pypr)\n",
    "\n",
    "#### Fix\n",
    "\n",
    "Un-install pyproj\n",
    "\n",
    "`conda remove --force pyproj`\n",
    "\n",
    "Re-install pyproj via `pip` instead of `conda`\n",
    "\n",
    "`pip install pyproj`\n",
    "\n",
    "### Socrata API\n",
    "\n",
    "[Paging through Data | Socrata - Documentation](https://dev.socrata.com/docs/paging.html)\n"
   ]
  },
  {
   "cell_type": "markdown",
   "metadata": {},
   "source": []
  }
 ],
 "metadata": {
  "kernelspec": {
   "display_name": "nyc-street-flooding-analysis",
   "language": "python",
   "name": "python3"
  },
  "language_info": {
   "codemirror_mode": {
    "name": "ipython",
    "version": 3
   },
   "file_extension": ".py",
   "mimetype": "text/x-python",
   "name": "python",
   "nbconvert_exporter": "python",
   "pygments_lexer": "ipython3",
   "version": "3.11.0"
  },
  "vscode": {
   "interpreter": {
    "hash": "8faf5fcf33adbeb030828c995532f49ce6aeec881dbe0c2746b63b3efb333c96"
   }
  }
 },
 "nbformat": 4,
 "nbformat_minor": 2
}