version https://git-lfs.github.com/spec/v1
oid sha256:8246a2effc93c6b618bc37f997fc69d56c8090a4b64cdf0cde3d2bab66140f09
size 17203
