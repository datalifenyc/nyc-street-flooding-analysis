version https://git-lfs.github.com/spec/v1
oid sha256:05971ee16b48badb1cf46f06e82bf07cd20029162d5101a98cef37a9ecf4d1c1
size 24101025
