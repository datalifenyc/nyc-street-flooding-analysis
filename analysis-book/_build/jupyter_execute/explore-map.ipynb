version https://git-lfs.github.com/spec/v1
oid sha256:17b4edc436cc4f439e384cccccddb84a336c593f2d1e6c3801d5f5126401cf97
size 24179446
