version https://git-lfs.github.com/spec/v1
oid sha256:0064e99836137cbbceceb8722a67ce6f2ab29f2389c9a7154bd57002fddb6048
size 24179446
