version https://git-lfs.github.com/spec/v1
oid sha256:dc078fd1fc8d8d9cd30fd4ca9f97829a5d376839be6d23e6e92e26dd705334d3
size 24105863
