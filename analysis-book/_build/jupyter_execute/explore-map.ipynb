version https://git-lfs.github.com/spec/v1
oid sha256:4ce2694f1be43ecda36ea3d7cee7dabf6dc8aa194e477446258779174ab4196c
size 24179446
